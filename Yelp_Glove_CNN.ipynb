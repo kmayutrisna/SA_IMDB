{
  "nbformat": 4,
  "nbformat_minor": 0,
  "metadata": {
    "colab": {
      "provenance": [],
      "authorship_tag": "ABX9TyOb6ounszNcinIBujcGExFH",
      "include_colab_link": true
    },
    "kernelspec": {
      "name": "python3",
      "display_name": "Python 3"
    },
    "language_info": {
      "name": "python"
    }
  },
  "cells": [
    {
      "cell_type": "markdown",
      "metadata": {
        "id": "view-in-github",
        "colab_type": "text"
      },
      "source": [
        "<a href=\"https://colab.research.google.com/github/kmayutrisna/SA_IMDB/blob/main/Yelp_Glove_CNN.ipynb\" target=\"_parent\"><img src=\"https://colab.research.google.com/assets/colab-badge.svg\" alt=\"Open In Colab\"/></a>"
      ]
    },
    {
      "cell_type": "code",
      "execution_count": 1,
      "metadata": {
        "id": "k7jN3vMhsG3Z"
      },
      "outputs": [],
      "source": [
        "# Import necessary library\n",
        "import pandas as pd"
      ]
    },
    {
      "cell_type": "code",
      "source": [
        "#Get the dataset from gdrive\n",
        "from google.colab import drive\n",
        "drive.mount('/content/drive')"
      ],
      "metadata": {
        "colab": {
          "base_uri": "https://localhost:8080/"
        },
        "id": "mHwRKeaMswjk",
        "outputId": "be517afc-d7f3-4c89-ee76-37b23a52050d"
      },
      "execution_count": 2,
      "outputs": [
        {
          "output_type": "stream",
          "name": "stdout",
          "text": [
            "Mounted at /content/drive\n"
          ]
        }
      ]
    },
    {
      "cell_type": "code",
      "source": [
        "#Display top of data\n",
        "yelp_train = pd.read_csv(\"drive/My Drive/data/train_yelp.csv\")\n",
        "yelp_test =pd.read_csv(\"drive/My Drive/data/test_yelp.csv\")"
      ],
      "metadata": {
        "id": "udTdY0LbsxKj"
      },
      "execution_count": 3,
      "outputs": []
    },
    {
      "cell_type": "code",
      "source": [
        "# Get the number of data points in each dataset\n",
        "num_train_data = len(yelp_train)\n",
        "num_test_data = len(yelp_test)"
      ],
      "metadata": {
        "id": "wFlGJVMZtM0V"
      },
      "execution_count": 4,
      "outputs": []
    },
    {
      "cell_type": "code",
      "source": [
        "print(f\"Number of data points in train dataset: {num_train_data}\")\n",
        "print(f\"Number of data points in test dataset: {num_test_data}\")"
      ],
      "metadata": {
        "colab": {
          "base_uri": "https://localhost:8080/"
        },
        "id": "j_EdWLOKtT_R",
        "outputId": "85ce1fe7-3cc5-4352-e90f-1a6fd6040e16"
      },
      "execution_count": 5,
      "outputs": [
        {
          "output_type": "stream",
          "name": "stdout",
          "text": [
            "Number of data points in train dataset: 560000\n",
            "Number of data points in test dataset: 38000\n"
          ]
        }
      ]
    },
    {
      "cell_type": "code",
      "source": [
        "# Check for duplicates in the train dataset\n",
        "train_duplicates = yelp_train[yelp_train.duplicated()]\n",
        "\n",
        "# Check for duplicates in the test dataset\n",
        "test_duplicates = yelp_test[yelp_test.duplicated()]"
      ],
      "metadata": {
        "id": "FkdySWtjtWWL"
      },
      "execution_count": 6,
      "outputs": []
    },
    {
      "cell_type": "code",
      "source": [
        "if len(train_duplicates) > 0:\n",
        "    print(\"Duplicates found in train dataset:\")\n",
        "    print(train_duplicates)\n",
        "else:\n",
        "    print(\"No duplicates found in train dataset\")\n",
        "\n",
        "if len(test_duplicates) > 0:\n",
        "    print(\"Duplicates found in test dataset:\")\n",
        "    print(test_duplicates)\n",
        "else:\n",
        "    print(\"No duplicates found in test dataset\")"
      ],
      "metadata": {
        "colab": {
          "base_uri": "https://localhost:8080/"
        },
        "id": "L2zSUeKjtuR9",
        "outputId": "dfb8fd56-66e4-4513-a464-11fc552a066f"
      },
      "execution_count": 7,
      "outputs": [
        {
          "output_type": "stream",
          "name": "stdout",
          "text": [
            "No duplicates found in train dataset\n",
            "No duplicates found in test dataset\n"
          ]
        }
      ]
    },
    {
      "cell_type": "code",
      "source": [
        "# Check for rows with missing or empty values in the \"label\" column\n",
        "missing_label_rows = yelp_train[yelp_train['label'].isnull() | yelp_train['label'].eq('')]\n",
        "\n",
        "if not missing_label_rows.empty:\n",
        "    print(\"Rows with missing or empty labels found:\")\n",
        "    print(missing_label_rows)\n",
        "else:\n",
        "    print(\"No rows with missing or empty labels found\")"
      ],
      "metadata": {
        "colab": {
          "base_uri": "https://localhost:8080/"
        },
        "id": "T_GMDpDOuE3E",
        "outputId": "d1681f8d-bfab-46e3-bb21-aa880b151e10"
      },
      "execution_count": 8,
      "outputs": [
        {
          "output_type": "stream",
          "name": "stdout",
          "text": [
            "No rows with missing or empty labels found\n"
          ]
        }
      ]
    },
    {
      "cell_type": "code",
      "source": [
        "# Check for rows with missing or empty values in the \"label\" column\n",
        "missing_label_rows = yelp_test[yelp_test['label'].isnull() | yelp_test['label'].eq('')]\n",
        "\n",
        "if not missing_label_rows.empty:\n",
        "    print(\"Rows with missing or empty labels found:\")\n",
        "    print(missing_label_rows)\n",
        "else:\n",
        "    print(\"No rows with missing or empty labels found\")"
      ],
      "metadata": {
        "colab": {
          "base_uri": "https://localhost:8080/"
        },
        "id": "LQ1oJ1cduOAW",
        "outputId": "45fc2cd2-950b-4632-de17-c71387bf6de7"
      },
      "execution_count": 9,
      "outputs": [
        {
          "output_type": "stream",
          "name": "stdout",
          "text": [
            "No rows with missing or empty labels found\n"
          ]
        }
      ]
    },
    {
      "cell_type": "code",
      "source": [
        "# Import necessary library\n",
        "import pandas as pd\n",
        "import numpy as np\n",
        "import tensorflow as tf\n",
        "from tensorflow.keras.preprocessing.text import Tokenizer\n",
        "from tensorflow.keras.preprocessing.sequence import pad_sequences\n",
        "from tensorflow.keras.models import Sequential\n",
        "from tensorflow.keras.layers import Embedding, Bidirectional, LSTM, Dense, GRU\n",
        "import re\n",
        "import string\n",
        "from tensorflow.keras.layers import Embedding, Conv1D, GlobalMaxPooling1D, Dense"
      ],
      "metadata": {
        "id": "7ZmY9THGuWS8"
      },
      "execution_count": 1,
      "outputs": []
    },
    {
      "cell_type": "code",
      "source": [
        "#Get the dataset from gdrive\n",
        "from google.colab import drive\n",
        "drive.mount('/content/drive')"
      ],
      "metadata": {
        "colab": {
          "base_uri": "https://localhost:8080/"
        },
        "id": "2qNMFEw22ozL",
        "outputId": "dde09a94-d242-48bc-90bc-aaeffcc2afc9"
      },
      "execution_count": 2,
      "outputs": [
        {
          "output_type": "stream",
          "name": "stdout",
          "text": [
            "Mounted at /content/drive\n"
          ]
        }
      ]
    },
    {
      "cell_type": "code",
      "source": [
        "#Display top of data\n",
        "yelp_train = pd.read_csv(\"drive/My Drive/data/train_yelp.csv\")\n",
        "yelp_test =pd.read_csv(\"drive/My Drive/data/test_yelp.csv\")"
      ],
      "metadata": {
        "id": "UMzp0UCs2r7p"
      },
      "execution_count": 3,
      "outputs": []
    },
    {
      "cell_type": "code",
      "source": [
        "import nltk\n",
        "nltk.download('stopwords')\n",
        "nltk.download('wordnet')"
      ],
      "metadata": {
        "colab": {
          "base_uri": "https://localhost:8080/"
        },
        "id": "toOA8i7JudHv",
        "outputId": "0bbe5a45-704a-4057-c2c9-97aa35b7ce83"
      },
      "execution_count": 4,
      "outputs": [
        {
          "output_type": "stream",
          "name": "stderr",
          "text": [
            "[nltk_data] Downloading package stopwords to /root/nltk_data...\n",
            "[nltk_data]   Unzipping corpora/stopwords.zip.\n",
            "[nltk_data] Downloading package wordnet to /root/nltk_data...\n"
          ]
        },
        {
          "output_type": "execute_result",
          "data": {
            "text/plain": [
              "True"
            ]
          },
          "metadata": {},
          "execution_count": 4
        }
      ]
    },
    {
      "cell_type": "code",
      "source": [
        "# Text preprocessing\n",
        "from nltk.corpus import stopwords\n",
        "def preprocess_text(text):\n",
        "\n",
        "    # Text cleaning\n",
        "    text = re.sub('[^a-zA-Z]', ' ', text)\n",
        "\n",
        "    #Single character removal\n",
        "    text = re.sub(r\"\\s+[a-zA-Z]\\s+\", ' ', text)\n",
        "\n",
        "    #Remove multiple spaces\n",
        "    text = re.sub(r'\\s+', ' ', text)\n",
        "\n",
        "    # Lowercasing\n",
        "    text = text.lower()\n",
        "\n",
        "    # Lowercasing\n",
        "    text = text.split()\n",
        "\n",
        "    # Stopword removal\n",
        "    stop_words = set(stopwords.words('english'))\n",
        "    text = [word for word in text if not word in stop_words]\n",
        "\n",
        "    # Join the tokens back to a single string\n",
        "    text = ' '.join(text)\n",
        "    return text"
      ],
      "metadata": {
        "id": "58ZytiGGvif5"
      },
      "execution_count": 5,
      "outputs": []
    },
    {
      "cell_type": "code",
      "source": [
        "# Preprocess the text column\n",
        "yelp_train['text'] = yelp_train['text'].apply(preprocess_text)\n",
        "yelp_test['text'] = yelp_test['text'].apply(preprocess_text)"
      ],
      "metadata": {
        "id": "49Gk1cbXvoqW"
      },
      "execution_count": 6,
      "outputs": []
    },
    {
      "cell_type": "code",
      "source": [
        "X_train = yelp_train['text'].values\n",
        "y_train = yelp_train['label'].values\n",
        "X_test = yelp_test['text'].values  # Change 'data' to 'data_test'\n",
        "y_test = yelp_test['label'].values  # Change 'data' to 'data_test'"
      ],
      "metadata": {
        "id": "hnuQV668vz28"
      },
      "execution_count": 7,
      "outputs": []
    },
    {
      "cell_type": "code",
      "source": [
        "# Tokenize and pad sequences\n",
        "max_len = 100  # Maximum sequence length\n",
        "tokenizer = Tokenizer()\n",
        "tokenizer.fit_on_texts(X_train)\n",
        "sequences_train = tokenizer.texts_to_sequences(X_train)\n",
        "sequences_train = pad_sequences(sequences_train, maxlen=max_len)\n",
        "sequences_test = tokenizer.texts_to_sequences(X_test)\n",
        "sequences_test = pad_sequences(sequences_test, maxlen=max_len)"
      ],
      "metadata": {
        "id": "_eQa8to6v-qg"
      },
      "execution_count": 8,
      "outputs": []
    },
    {
      "cell_type": "code",
      "source": [
        "# Load GloVe word embeddings\n",
        "# Replace 'path_to_glove' with the path to your downloaded GloVe embeddings file\n",
        "embedding_index = {}\n",
        "with open('drive/My Drive/data/glove.6B.100d.txt', 'r', encoding='utf-8') as f:\n",
        "    for line in f:\n",
        "        values = line.split()\n",
        "        word = values[0]\n",
        "        coefficients = np.asarray(values[1:], dtype='float32')\n",
        "        embedding_index[word] = coefficients\n",
        "\n",
        "# Create word-to-index mapping\n",
        "word_index = tokenizer.word_index\n",
        "num_words = len(word_index) + 1\n",
        "embedding_matrix = np.zeros((num_words, 100))  # Assuming you downloaded GloVe with 100-dimensional vectors\n",
        "for word, i in word_index.items():\n",
        "    embedding_vector = embedding_index.get(word)\n",
        "    if embedding_vector is not None:\n",
        "        embedding_matrix[i] = embedding_vector"
      ],
      "metadata": {
        "id": "M3hv0cNcwoCV"
      },
      "execution_count": 9,
      "outputs": []
    },
    {
      "cell_type": "code",
      "source": [
        "# Build the Model\n",
        "model = Sequential()\n",
        "model.add(Embedding(num_words, 100, weights=[embedding_matrix], input_length=max_len, trainable=False))\n",
        "model.add(Conv1D(128, 5, activation='relu'))\n",
        "model.add(GlobalMaxPooling1D())\n",
        "model.add(Dense(1, activation='sigmoid'))\n",
        "\n",
        "# Compile the Model\n",
        "model.compile(optimizer='adam', loss='binary_crossentropy', metrics=['accuracy'])"
      ],
      "metadata": {
        "id": "arD3Yd6Pw7VG"
      },
      "execution_count": 10,
      "outputs": []
    },
    {
      "cell_type": "code",
      "source": [
        "# Train the Model\n",
        "history = model.fit(sequences_train, y_train, epochs=5, batch_size=32, validation_data=(sequences_test, y_test))"
      ],
      "metadata": {
        "colab": {
          "base_uri": "https://localhost:8080/"
        },
        "id": "N6dbZ0l4w_PC",
        "outputId": "a5150aca-c3e7-4e83-a976-70db66977f56"
      },
      "execution_count": 11,
      "outputs": [
        {
          "output_type": "stream",
          "name": "stdout",
          "text": [
            "Epoch 1/5\n",
            "17500/17500 [==============================] - 383s 22ms/step - loss: 0.2560 - accuracy: 0.8925 - val_loss: 0.2158 - val_accuracy: 0.9116\n",
            "Epoch 2/5\n",
            "17500/17500 [==============================] - 379s 22ms/step - loss: 0.2126 - accuracy: 0.9129 - val_loss: 0.2138 - val_accuracy: 0.9135\n",
            "Epoch 3/5\n",
            "17500/17500 [==============================] - 380s 22ms/step - loss: 0.1953 - accuracy: 0.9211 - val_loss: 0.2071 - val_accuracy: 0.9159\n",
            "Epoch 4/5\n",
            "17500/17500 [==============================] - 380s 22ms/step - loss: 0.1818 - accuracy: 0.9267 - val_loss: 0.2118 - val_accuracy: 0.9153\n",
            "Epoch 5/5\n",
            "17500/17500 [==============================] - 380s 22ms/step - loss: 0.1717 - accuracy: 0.9311 - val_loss: 0.2207 - val_accuracy: 0.9127\n"
          ]
        }
      ]
    },
    {
      "cell_type": "code",
      "source": [
        "# Evaluate the Model\n",
        "y_pred = model.predict(sequences_test)\n",
        "y_pred = (y_pred > 0.5).astype(int)"
      ],
      "metadata": {
        "colab": {
          "base_uri": "https://localhost:8080/"
        },
        "id": "1PVE82RfxULA",
        "outputId": "1bbd5d7b-fb5e-45a0-e4f8-228776803c9a"
      },
      "execution_count": 12,
      "outputs": [
        {
          "output_type": "stream",
          "name": "stdout",
          "text": [
            "1188/1188 [==============================] - 10s 8ms/step\n"
          ]
        }
      ]
    },
    {
      "cell_type": "code",
      "source": [
        "from sklearn.metrics import accuracy_score, precision_score, recall_score, f1_score\n",
        "accuracy = accuracy_score(y_test, y_pred)\n",
        "precision = precision_score(y_test, y_pred)\n",
        "recall = recall_score(y_test, y_pred)\n",
        "f1 = f1_score(y_test, y_pred)\n",
        "\n",
        "print(f\"Accuracy: {accuracy*100:.2f}%\")\n",
        "print(f\"Precision: {precision*100:.2f}%\")\n",
        "print(f\"Recall: {recall*100:.2f}%\")\n",
        "print(f\"F1 Score: {f1*100:.2f}%\")"
      ],
      "metadata": {
        "colab": {
          "base_uri": "https://localhost:8080/"
        },
        "id": "PmJs4_h7xWcQ",
        "outputId": "abc0bb27-8f33-426a-90f8-ebc5489b466c"
      },
      "execution_count": 13,
      "outputs": [
        {
          "output_type": "stream",
          "name": "stdout",
          "text": [
            "Accuracy: 91.27%\n",
            "Precision: 93.50%\n",
            "Recall: 88.71%\n",
            "F1 Score: 91.04%\n"
          ]
        }
      ]
    },
    {
      "cell_type": "code",
      "source": [
        "# Plot Training History (Accuracy and Loss)\n",
        "import matplotlib.pyplot as plt\n",
        "plt.figure(figsize=(12, 4))\n",
        "plt.subplot(1, 2, 1)\n",
        "plt.plot(history.history['accuracy'], label='Training Accuracy')\n",
        "plt.plot(history.history['val_accuracy'], label='Validation Accuracy')\n",
        "plt.xlabel('Epoch')\n",
        "plt.ylabel('Accuracy')\n",
        "plt.legend()\n",
        "plt.title('Training and Validation Accuracy')\n",
        "\n",
        "plt.subplot(1, 2, 2)\n",
        "plt.plot(history.history['loss'], label='Training Loss')\n",
        "plt.plot(history.history['val_loss'], label='Validation Loss')\n",
        "plt.xlabel('Epoch')\n",
        "plt.ylabel('Loss')\n",
        "plt.legend()\n",
        "plt.title('Training and Validation Loss')\n",
        "\n",
        "plt.tight_layout()\n",
        "plt.show()"
      ],
      "metadata": {
        "colab": {
          "base_uri": "https://localhost:8080/",
          "height": 407
        },
        "id": "7BfBlXL_xoQu",
        "outputId": "80f972fa-1cb0-4554-c36d-ed93f54f6563"
      },
      "execution_count": 14,
      "outputs": [
        {
          "output_type": "display_data",
          "data": {
            "text/plain": [
              "<Figure size 1200x400 with 2 Axes>"
            ],
            "image/png": "[encoded data removed]"
          },
          "metadata": {}
        }
      ]
    }
  ]
}