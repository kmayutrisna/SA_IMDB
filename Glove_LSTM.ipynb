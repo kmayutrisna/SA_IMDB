{
  "nbformat": 4,
  "nbformat_minor": 0,
  "metadata": {
    "colab": {
      "provenance": [],
      "gpuType": "T4",
      "authorship_tag": "ABX9TyNiKB25GZdtOvvp+YyeMxSp",
      "include_colab_link": true
    },
    "kernelspec": {
      "name": "python3",
      "display_name": "Python 3"
    },
    "language_info": {
      "name": "python"
    }
  },
  "cells": [
    {
      "cell_type": "markdown",
      "metadata": {
        "id": "view-in-github",
        "colab_type": "text"
      },
      "source": [
        "<a href=\"https://colab.research.google.com/github/kmayutrisna/SA_IMDB/blob/main/Glove_LSTM.ipynb\" target=\"_parent\"><img src=\"https://colab.research.google.com/assets/colab-badge.svg\" alt=\"Open In Colab\"/></a>"
      ]
    },
    {
      "cell_type": "code",
      "execution_count": null,
      "metadata": {
        "id": "OGk4VmaFRAwI"
      },
      "outputs": [],
      "source": [
        "# Import necessary library\n",
        "import re\n",
        "import nltk\n",
        "from nltk.corpus import stopwords\n",
        "from nltk.stem import PorterStemmer, WordNetLemmatizer\n",
        "import pandas as pd\n",
        "from sklearn.model_selection import train_test_split\n",
        "from tensorflow.keras.preprocessing.text import Tokenizer\n",
        "from tensorflow.keras.preprocessing.sequence import pad_sequences\n",
        "from tensorflow.keras.models import Model\n",
        "from tensorflow.keras.layers import Input, Embedding, LSTM, GRU, Bidirectional, concatenate, Conv1D, GlobalMaxPooling1D, Dense\n",
        "from tensorflow.keras.callbacks import EarlyStopping\n",
        "from sklearn.metrics import confusion_matrix, accuracy_score, precision_score, recall_score, f1_score\n",
        "import matplotlib.pyplot as plt\n",
        "import seaborn as sns"
      ]
    },
    {
      "cell_type": "code",
      "source": [
        "#Get the dataset from gdrive\n",
        "from google.colab import drive\n",
        "drive.mount('/content/drive')"
      ],
      "metadata": {
        "colab": {
          "base_uri": "https://localhost:8080/"
        },
        "id": "MZp024owEm4_",
        "outputId": "a1a11601-9bb5-4033-da50-a93cce8df7d4"
      },
      "execution_count": null,
      "outputs": [
        {
          "output_type": "stream",
          "name": "stdout",
          "text": [
            "Mounted at /content/drive\n"
          ]
        }
      ]
    },
    {
      "cell_type": "code",
      "source": [
        "#Display top of data\n",
        "data =pd.read_csv(\"drive/My Drive/data/IMDB Dataset.csv\")"
      ],
      "metadata": {
        "id": "0_Xcx52jEuV0"
      },
      "execution_count": null,
      "outputs": []
    },
    {
      "cell_type": "code",
      "source": [
        "data.head()"
      ],
      "metadata": {
        "colab": {
          "base_uri": "https://localhost:8080/",
          "height": 206
        },
        "id": "LSRM8EaLE2oj",
        "outputId": "5b19a22c-20e0-4235-edb9-d655bdca7650"
      },
      "execution_count": null,
      "outputs": [
        {
          "output_type": "execute_result",
          "data": {
            "text/plain": [
              "                                              review sentiment\n",
              "0  One of the other reviewers has mentioned that ...  positive\n",
              "1  A wonderful little production. <br /><br />The...  positive\n",
              "2  I thought this was a wonderful way to spend ti...  positive\n",
              "3  Basically there's a family where a little boy ...  negative\n",
              "4  Petter Mattei's \"Love in the Time of Money\" is...  positive"
            ],
            "text/html": [
              "\n",
              "\n",
              "  <div id=\"df-6a915dfb-5b71-44de-8884-a6b8067db203\">\n",
              "    <div class=\"colab-df-container\">\n",
              "      <div>\n",
              "<style scoped>\n",
              "    .dataframe tbody tr th:only-of-type {\n",
              "        vertical-align: middle;\n",
              "    }\n",
              "\n",
              "    .dataframe tbody tr th {\n",
              "        vertical-align: top;\n",
              "    }\n",
              "\n",
              "    .dataframe thead th {\n",
              "        text-align: right;\n",
              "    }\n",
              "</style>\n",
              "<table border=\"1\" class=\"dataframe\">\n",
              "  <thead>\n",
              "    <tr style=\"text-align: right;\">\n",
              "      <th></th>\n",
              "      <th>review</th>\n",
              "      <th>sentiment</th>\n",
              "    </tr>\n",
              "  </thead>\n",
              "  <tbody>\n",
              "    <tr>\n",
              "      <th>0</th>\n",
              "      <td>One of the other reviewers has mentioned that ...</td>\n",
              "      <td>positive</td>\n",
              "    </tr>\n",
              "    <tr>\n",
              "      <th>1</th>\n",
              "      <td>A wonderful little production. &lt;br /&gt;&lt;br /&gt;The...</td>\n",
              "      <td>positive</td>\n",
              "    </tr>\n",
              "    <tr>\n",
              "      <th>2</th>\n",
              "      <td>I thought this was a wonderful way to spend ti...</td>\n",
              "      <td>positive</td>\n",
              "    </tr>\n",
              "    <tr>\n",
              "      <th>3</th>\n",
              "      <td>Basically there's a family where a little boy ...</td>\n",
              "      <td>negative</td>\n",
              "    </tr>\n",
              "    <tr>\n",
              "      <th>4</th>\n",
              "      <td>Petter Mattei's \"Love in the Time of Money\" is...</td>\n",
              "      <td>positive</td>\n",
              "    </tr>\n",
              "  </tbody>\n",
              "</table>\n",
              "</div>\n",
              "      <button class=\"colab-df-convert\" onclick=\"convertToInteractive('df-6a915dfb-5b71-44de-8884-a6b8067db203')\"\n",
              "              title=\"Convert this dataframe to an interactive table.\"\n",
              "              style=\"display:none;\">\n",
              "\n",
              "  <svg xmlns=\"http://www.w3.org/2000/svg\" height=\"24px\"viewBox=\"0 0 24 24\"\n",
              "       width=\"24px\">\n",
              "    <path d=\"M0 0h24v24H0V0z\" fill=\"none\"/>\n",
              "    <path d=\"M18.56 5.44l.94 2.06.94-2.06 2.06-.94-2.06-.94-.94-2.06-.94 2.06-2.06.94zm-11 1L8.5 8.5l.94-2.06 2.06-.94-2.06-.94L8.5 2.5l-.94 2.06-2.06.94zm10 10l.94 2.06.94-2.06 2.06-.94-2.06-.94-.94-2.06-.94 2.06-2.06.94z\"/><path d=\"M17.41 7.96l-1.37-1.37c-.4-.4-.92-.59-1.43-.59-.52 0-1.04.2-1.43.59L10.3 9.45l-7.72 7.72c-.78.78-.78 2.05 0 2.83L4 21.41c.39.39.9.59 1.41.59.51 0 1.02-.2 1.41-.59l7.78-7.78 2.81-2.81c.8-.78.8-2.07 0-2.86zM5.41 20L4 18.59l7.72-7.72 1.47 1.35L5.41 20z\"/>\n",
              "  </svg>\n",
              "      </button>\n",
              "\n",
              "\n",
              "\n",
              "    <div id=\"df-cf615d2a-19f2-42b2-ac2a-c5d047927f11\">\n",
              "      <button class=\"colab-df-quickchart\" onclick=\"quickchart('df-cf615d2a-19f2-42b2-ac2a-c5d047927f11')\"\n",
              "              title=\"Suggest charts.\"\n",
              "              style=\"display:none;\">\n",
              "\n",
              "<svg xmlns=\"http://www.w3.org/2000/svg\" height=\"24px\"viewBox=\"0 0 24 24\"\n",
              "     width=\"24px\">\n",
              "    <g>\n",
              "        <path d=\"M19 3H5c-1.1 0-2 .9-2 2v14c0 1.1.9 2 2 2h14c1.1 0 2-.9 2-2V5c0-1.1-.9-2-2-2zM9 17H7v-7h2v7zm4 0h-2V7h2v10zm4 0h-2v-4h2v4z\"/>\n",
              "    </g>\n",
              "</svg>\n",
              "      </button>\n",
              "    </div>\n",
              "\n",
              "<style>\n",
              "  .colab-df-quickchart {\n",
              "    background-color: #E8F0FE;\n",
              "    border: none;\n",
              "    border-radius: 50%;\n",
              "    cursor: pointer;\n",
              "    display: none;\n",
              "    fill: #1967D2;\n",
              "    height: 32px;\n",
              "    padding: 0 0 0 0;\n",
              "    width: 32px;\n",
              "  }\n",
              "\n",
              "  .colab-df-quickchart:hover {\n",
              "    background-color: #E2EBFA;\n",
              "    box-shadow: 0px 1px 2px rgba(60, 64, 67, 0.3), 0px 1px 3px 1px rgba(60, 64, 67, 0.15);\n",
              "    fill: #174EA6;\n",
              "  }\n",
              "\n",
              "  [theme=dark] .colab-df-quickchart {\n",
              "    background-color: #3B4455;\n",
              "    fill: #D2E3FC;\n",
              "  }\n",
              "\n",
              "  [theme=dark] .colab-df-quickchart:hover {\n",
              "    background-color: #434B5C;\n",
              "    box-shadow: 0px 1px 3px 1px rgba(0, 0, 0, 0.15);\n",
              "    filter: drop-shadow(0px 1px 2px rgba(0, 0, 0, 0.3));\n",
              "    fill: #FFFFFF;\n",
              "  }\n",
              "</style>\n",
              "\n",
              "    <script>\n",
              "      async function quickchart(key) {\n",
              "        const containerElement = document.querySelector('#' + key);\n",
              "        const charts = await google.colab.kernel.invokeFunction(\n",
              "            'suggestCharts', [key], {});\n",
              "      }\n",
              "    </script>\n",
              "\n",
              "      <script>\n",
              "\n",
              "function displayQuickchartButton(domScope) {\n",
              "  let quickchartButtonEl =\n",
              "    domScope.querySelector('#df-cf615d2a-19f2-42b2-ac2a-c5d047927f11 button.colab-df-quickchart');\n",
              "  quickchartButtonEl.style.display =\n",
              "    google.colab.kernel.accessAllowed ? 'block' : 'none';\n",
              "}\n",
              "\n",
              "        displayQuickchartButton(document);\n",
              "      </script>\n",
              "      <style>\n",
              "    .colab-df-container {\n",
              "      display:flex;\n",
              "      flex-wrap:wrap;\n",
              "      gap: 12px;\n",
              "    }\n",
              "\n",
              "    .colab-df-convert {\n",
              "      background-color: #E8F0FE;\n",
              "      border: none;\n",
              "      border-radius: 50%;\n",
              "      cursor: pointer;\n",
              "      display: none;\n",
              "      fill: #1967D2;\n",
              "      height: 32px;\n",
              "      padding: 0 0 0 0;\n",
              "      width: 32px;\n",
              "    }\n",
              "\n",
              "    .colab-df-convert:hover {\n",
              "      background-color: #E2EBFA;\n",
              "      box-shadow: 0px 1px 2px rgba(60, 64, 67, 0.3), 0px 1px 3px 1px rgba(60, 64, 67, 0.15);\n",
              "      fill: #174EA6;\n",
              "    }\n",
              "\n",
              "    [theme=dark] .colab-df-convert {\n",
              "      background-color: #3B4455;\n",
              "      fill: #D2E3FC;\n",
              "    }\n",
              "\n",
              "    [theme=dark] .colab-df-convert:hover {\n",
              "      background-color: #434B5C;\n",
              "      box-shadow: 0px 1px 3px 1px rgba(0, 0, 0, 0.15);\n",
              "      filter: drop-shadow(0px 1px 2px rgba(0, 0, 0, 0.3));\n",
              "      fill: #FFFFFF;\n",
              "    }\n",
              "  </style>\n",
              "\n",
              "      <script>\n",
              "        const buttonEl =\n",
              "          document.querySelector('#df-6a915dfb-5b71-44de-8884-a6b8067db203 button.colab-df-convert');\n",
              "        buttonEl.style.display =\n",
              "          google.colab.kernel.accessAllowed ? 'block' : 'none';\n",
              "\n",
              "        async function convertToInteractive(key) {\n",
              "          const element = document.querySelector('#df-6a915dfb-5b71-44de-8884-a6b8067db203');\n",
              "          const dataTable =\n",
              "            await google.colab.kernel.invokeFunction('convertToInteractive',\n",
              "                                                     [key], {});\n",
              "          if (!dataTable) return;\n",
              "\n",
              "          const docLinkHtml = 'Like what you see? Visit the ' +\n",
              "            '<a target=\"_blank\" href=https://colab.research.google.com/notebooks/data_table.ipynb>data table notebook</a>'\n",
              "            + ' to learn more about interactive tables.';\n",
              "          element.innerHTML = '';\n",
              "          dataTable['output_type'] = 'display_data';\n",
              "          await google.colab.output.renderOutput(dataTable, element);\n",
              "          const docLink = document.createElement('div');\n",
              "          docLink.innerHTML = docLinkHtml;\n",
              "          element.appendChild(docLink);\n",
              "        }\n",
              "      </script>\n",
              "    </div>\n",
              "  </div>\n"
            ]
          },
          "metadata": {},
          "execution_count": 4
        }
      ]
    },
    {
      "cell_type": "code",
      "source": [
        "data['review']"
      ],
      "metadata": {
        "colab": {
          "base_uri": "https://localhost:8080/"
        },
        "id": "1YDXlgLKo1gM",
        "outputId": "5da03b70-35e6-479a-9b16-ae99ec7578c4"
      },
      "execution_count": null,
      "outputs": [
        {
          "output_type": "execute_result",
          "data": {
            "text/plain": [
              "0        One of the other reviewers has mentioned that ...\n",
              "1        A wonderful little production. <br /><br />The...\n",
              "2        I thought this was a wonderful way to spend ti...\n",
              "3        Basically there's a family where a little boy ...\n",
              "4        Petter Mattei's \"Love in the Time of Money\" is...\n",
              "                               ...                        \n",
              "49995    I thought this movie did a down right good job...\n",
              "49996    Bad plot, bad dialogue, bad acting, idiotic di...\n",
              "49997    I am a Catholic taught in parochial elementary...\n",
              "49998    I'm going to have to disagree with the previou...\n",
              "49999    No one expects the Star Trek movies to be high...\n",
              "Name: review, Length: 50000, dtype: object"
            ]
          },
          "metadata": {},
          "execution_count": 5
        }
      ]
    },
    {
      "cell_type": "code",
      "source": [
        "data['review'][0]"
      ],
      "metadata": {
        "colab": {
          "base_uri": "https://localhost:8080/",
          "height": 105
        },
        "id": "bb_00OTno-rK",
        "outputId": "2727c10e-9b28-4d2b-9247-7a90cc3f516b"
      },
      "execution_count": null,
      "outputs": [
        {
          "output_type": "execute_result",
          "data": {
            "text/plain": [
              "\"One of the other reviewers has mentioned that after watching just 1 Oz episode you'll be hooked. They are right, as this is exactly what happened with me.<br /><br />The first thing that struck me about Oz was its brutality and unflinching scenes of violence, which set in right from the word GO. Trust me, this is not a show for the faint hearted or timid. This show pulls no punches with regards to drugs, sex or violence. Its is hardcore, in the classic use of the word.<br /><br />It is called OZ as that is the nickname given to the Oswald Maximum Security State Penitentary. It focuses mainly on Emerald City, an experimental section of the prison where all the cells have glass fronts and face inwards, so privacy is not high on the agenda. Em City is home to many..Aryans, Muslims, gangstas, Latinos, Christians, Italians, Irish and more....so scuffles, death stares, dodgy dealings and shady agreements are never far away.<br /><br />I would say the main appeal of the show is due to the fact that it goes where other shows wouldn't dare. Forget pretty pictures painted for mainstream audiences, forget charm, forget romance...OZ doesn't mess around. The first episode I ever saw struck me as so nasty it was surreal, I couldn't say I was ready for it, but as I watched more, I developed a taste for Oz, and got accustomed to the high levels of graphic violence. Not just violence, but injustice (crooked guards who'll be sold out for a nickel, inmates who'll kill on order and get away with it, well mannered, middle class inmates being turned into prison bitches due to their lack of street skills or prison experience) Watching Oz, you may become comfortable with what is uncomfortable viewing....thats if you can get in touch with your darker side.\""
            ],
            "application/vnd.google.colaboratory.intrinsic+json": {
              "type": "string"
            }
          },
          "metadata": {},
          "execution_count": 6
        }
      ]
    },
    {
      "cell_type": "code",
      "source": [
        "nltk.download('stopwords')\n",
        "nltk.download('wordnet')"
      ],
      "metadata": {
        "colab": {
          "base_uri": "https://localhost:8080/"
        },
        "id": "sxyobYWUFC4r",
        "outputId": "3c2e72cf-1c03-4132-8c6a-8569b2f3e2bc"
      },
      "execution_count": null,
      "outputs": [
        {
          "output_type": "stream",
          "name": "stderr",
          "text": [
            "[nltk_data] Downloading package stopwords to /root/nltk_data...\n",
            "[nltk_data]   Unzipping corpora/stopwords.zip.\n",
            "[nltk_data] Downloading package wordnet to /root/nltk_data...\n"
          ]
        },
        {
          "output_type": "execute_result",
          "data": {
            "text/plain": [
              "True"
            ]
          },
          "metadata": {},
          "execution_count": 4
        }
      ]
    },
    {
      "cell_type": "code",
      "source": [
        "# Text preprocessing\n",
        "def preprocess_text(text):\n",
        "\n",
        "    # Text cleaning\n",
        "    text = re.sub('[^a-zA-Z]', ' ', text)\n",
        "\n",
        "    #Single character removal\n",
        "    text = re.sub(r\"\\s+[a-zA-Z]\\s+\", ' ', text)\n",
        "\n",
        "    #Remove multiple spaces\n",
        "    text = re.sub(r'\\s+', ' ', text)\n",
        "\n",
        "    # Lowercasing\n",
        "    text = text.lower()\n",
        "\n",
        "    # Lowercasing\n",
        "    text = text.split()\n",
        "\n",
        "    # Stopword removal\n",
        "    stop_words = set(stopwords.words('english'))\n",
        "    text = [word for word in text if not word in stop_words]\n",
        "\n",
        "    # Join the tokens back to a single string\n",
        "    text = ' '.join(text)\n",
        "    return text"
      ],
      "metadata": {
        "id": "0VACgCEmIRqg"
      },
      "execution_count": null,
      "outputs": []
    },
    {
      "cell_type": "code",
      "source": [
        "# Preprocess the text column\n",
        "data['review'] = data['review'].apply(preprocess_text)"
      ],
      "metadata": {
        "id": "m8r1giokFMsj"
      },
      "execution_count": null,
      "outputs": []
    },
    {
      "cell_type": "code",
      "source": [
        "data['review'][0]"
      ],
      "metadata": {
        "colab": {
          "base_uri": "https://localhost:8080/",
          "height": 105
        },
        "id": "NulIKpk4GR20",
        "outputId": "a753cc57-c94e-4731-f362-45d517fb6767"
      },
      "execution_count": null,
      "outputs": [
        {
          "output_type": "execute_result",
          "data": {
            "text/plain": [
              "'one reviewers mentioned watching oz episode hooked right exactly happened br br first thing struck oz brutality unflinching scenes violence set right word go trust show faint hearted timid show pulls punches regards drugs sex violence hardcore classic use word br br called oz nickname given oswald maximum security state penitentary focuses mainly emerald city experimental section prison cells glass fronts face inwards privacy high agenda em city home many aryans muslims gangstas latinos christians italians irish scuffles death stares dodgy dealings shady agreements never far away br br would say main appeal show due fact goes shows dare forget pretty pictures painted mainstream audiences forget charm forget romance oz mess around first episode ever saw struck nasty surreal say ready watched developed taste oz got accustomed high levels graphic violence violence injustice crooked guards sold nickel inmates kill order get away well mannered middle class inmates turned prison bitches due lack street skills prison experience watching oz may become comfortable uncomfortable viewing thats get touch darker side'"
            ],
            "application/vnd.google.colaboratory.intrinsic+json": {
              "type": "string"
            }
          },
          "metadata": {},
          "execution_count": 10
        }
      ]
    },
    {
      "cell_type": "code",
      "source": [
        "data.head()"
      ],
      "metadata": {
        "colab": {
          "base_uri": "https://localhost:8080/",
          "height": 206
        },
        "id": "4w8xmdiGKJr-",
        "outputId": "cd922ab3-211d-446d-eb68-06eb8890da23"
      },
      "execution_count": null,
      "outputs": [
        {
          "output_type": "execute_result",
          "data": {
            "text/plain": [
              "                                              review sentiment\n",
              "0  one reviewers mentioned watching oz episode ho...  positive\n",
              "1  wonderful little production br br filming tech...  positive\n",
              "2  thought wonderful way spend time hot summer we...  positive\n",
              "3  basically family little boy jake thinks zombie...  negative\n",
              "4  petter mattei love time money visually stunnin...  positive"
            ],
            "text/html": [
              "\n",
              "\n",
              "  <div id=\"df-bc8cbd07-3803-4658-b68b-a4b68b15cab2\">\n",
              "    <div class=\"colab-df-container\">\n",
              "      <div>\n",
              "<style scoped>\n",
              "    .dataframe tbody tr th:only-of-type {\n",
              "        vertical-align: middle;\n",
              "    }\n",
              "\n",
              "    .dataframe tbody tr th {\n",
              "        vertical-align: top;\n",
              "    }\n",
              "\n",
              "    .dataframe thead th {\n",
              "        text-align: right;\n",
              "    }\n",
              "</style>\n",
              "<table border=\"1\" class=\"dataframe\">\n",
              "  <thead>\n",
              "    <tr style=\"text-align: right;\">\n",
              "      <th></th>\n",
              "      <th>review</th>\n",
              "      <th>sentiment</th>\n",
              "    </tr>\n",
              "  </thead>\n",
              "  <tbody>\n",
              "    <tr>\n",
              "      <th>0</th>\n",
              "      <td>one reviewers mentioned watching oz episode ho...</td>\n",
              "      <td>positive</td>\n",
              "    </tr>\n",
              "    <tr>\n",
              "      <th>1</th>\n",
              "      <td>wonderful little production br br filming tech...</td>\n",
              "      <td>positive</td>\n",
              "    </tr>\n",
              "    <tr>\n",
              "      <th>2</th>\n",
              "      <td>thought wonderful way spend time hot summer we...</td>\n",
              "      <td>positive</td>\n",
              "    </tr>\n",
              "    <tr>\n",
              "      <th>3</th>\n",
              "      <td>basically family little boy jake thinks zombie...</td>\n",
              "      <td>negative</td>\n",
              "    </tr>\n",
              "    <tr>\n",
              "      <th>4</th>\n",
              "      <td>petter mattei love time money visually stunnin...</td>\n",
              "      <td>positive</td>\n",
              "    </tr>\n",
              "  </tbody>\n",
              "</table>\n",
              "</div>\n",
              "      <button class=\"colab-df-convert\" onclick=\"convertToInteractive('df-bc8cbd07-3803-4658-b68b-a4b68b15cab2')\"\n",
              "              title=\"Convert this dataframe to an interactive table.\"\n",
              "              style=\"display:none;\">\n",
              "\n",
              "  <svg xmlns=\"http://www.w3.org/2000/svg\" height=\"24px\"viewBox=\"0 0 24 24\"\n",
              "       width=\"24px\">\n",
              "    <path d=\"M0 0h24v24H0V0z\" fill=\"none\"/>\n",
              "    <path d=\"M18.56 5.44l.94 2.06.94-2.06 2.06-.94-2.06-.94-.94-2.06-.94 2.06-2.06.94zm-11 1L8.5 8.5l.94-2.06 2.06-.94-2.06-.94L8.5 2.5l-.94 2.06-2.06.94zm10 10l.94 2.06.94-2.06 2.06-.94-2.06-.94-.94-2.06-.94 2.06-2.06.94z\"/><path d=\"M17.41 7.96l-1.37-1.37c-.4-.4-.92-.59-1.43-.59-.52 0-1.04.2-1.43.59L10.3 9.45l-7.72 7.72c-.78.78-.78 2.05 0 2.83L4 21.41c.39.39.9.59 1.41.59.51 0 1.02-.2 1.41-.59l7.78-7.78 2.81-2.81c.8-.78.8-2.07 0-2.86zM5.41 20L4 18.59l7.72-7.72 1.47 1.35L5.41 20z\"/>\n",
              "  </svg>\n",
              "      </button>\n",
              "\n",
              "\n",
              "\n",
              "    <div id=\"df-16fd06d3-9bbd-4520-8bc4-d9ec0dc9e235\">\n",
              "      <button class=\"colab-df-quickchart\" onclick=\"quickchart('df-16fd06d3-9bbd-4520-8bc4-d9ec0dc9e235')\"\n",
              "              title=\"Suggest charts.\"\n",
              "              style=\"display:none;\">\n",
              "\n",
              "<svg xmlns=\"http://www.w3.org/2000/svg\" height=\"24px\"viewBox=\"0 0 24 24\"\n",
              "     width=\"24px\">\n",
              "    <g>\n",
              "        <path d=\"M19 3H5c-1.1 0-2 .9-2 2v14c0 1.1.9 2 2 2h14c1.1 0 2-.9 2-2V5c0-1.1-.9-2-2-2zM9 17H7v-7h2v7zm4 0h-2V7h2v10zm4 0h-2v-4h2v4z\"/>\n",
              "    </g>\n",
              "</svg>\n",
              "      </button>\n",
              "    </div>\n",
              "\n",
              "<style>\n",
              "  .colab-df-quickchart {\n",
              "    background-color: #E8F0FE;\n",
              "    border: none;\n",
              "    border-radius: 50%;\n",
              "    cursor: pointer;\n",
              "    display: none;\n",
              "    fill: #1967D2;\n",
              "    height: 32px;\n",
              "    padding: 0 0 0 0;\n",
              "    width: 32px;\n",
              "  }\n",
              "\n",
              "  .colab-df-quickchart:hover {\n",
              "    background-color: #E2EBFA;\n",
              "    box-shadow: 0px 1px 2px rgba(60, 64, 67, 0.3), 0px 1px 3px 1px rgba(60, 64, 67, 0.15);\n",
              "    fill: #174EA6;\n",
              "  }\n",
              "\n",
              "  [theme=dark] .colab-df-quickchart {\n",
              "    background-color: #3B4455;\n",
              "    fill: #D2E3FC;\n",
              "  }\n",
              "\n",
              "  [theme=dark] .colab-df-quickchart:hover {\n",
              "    background-color: #434B5C;\n",
              "    box-shadow: 0px 1px 3px 1px rgba(0, 0, 0, 0.15);\n",
              "    filter: drop-shadow(0px 1px 2px rgba(0, 0, 0, 0.3));\n",
              "    fill: #FFFFFF;\n",
              "  }\n",
              "</style>\n",
              "\n",
              "    <script>\n",
              "      async function quickchart(key) {\n",
              "        const containerElement = document.querySelector('#' + key);\n",
              "        const charts = await google.colab.kernel.invokeFunction(\n",
              "            'suggestCharts', [key], {});\n",
              "      }\n",
              "    </script>\n",
              "\n",
              "      <script>\n",
              "\n",
              "function displayQuickchartButton(domScope) {\n",
              "  let quickchartButtonEl =\n",
              "    domScope.querySelector('#df-16fd06d3-9bbd-4520-8bc4-d9ec0dc9e235 button.colab-df-quickchart');\n",
              "  quickchartButtonEl.style.display =\n",
              "    google.colab.kernel.accessAllowed ? 'block' : 'none';\n",
              "}\n",
              "\n",
              "        displayQuickchartButton(document);\n",
              "      </script>\n",
              "      <style>\n",
              "    .colab-df-container {\n",
              "      display:flex;\n",
              "      flex-wrap:wrap;\n",
              "      gap: 12px;\n",
              "    }\n",
              "\n",
              "    .colab-df-convert {\n",
              "      background-color: #E8F0FE;\n",
              "      border: none;\n",
              "      border-radius: 50%;\n",
              "      cursor: pointer;\n",
              "      display: none;\n",
              "      fill: #1967D2;\n",
              "      height: 32px;\n",
              "      padding: 0 0 0 0;\n",
              "      width: 32px;\n",
              "    }\n",
              "\n",
              "    .colab-df-convert:hover {\n",
              "      background-color: #E2EBFA;\n",
              "      box-shadow: 0px 1px 2px rgba(60, 64, 67, 0.3), 0px 1px 3px 1px rgba(60, 64, 67, 0.15);\n",
              "      fill: #174EA6;\n",
              "    }\n",
              "\n",
              "    [theme=dark] .colab-df-convert {\n",
              "      background-color: #3B4455;\n",
              "      fill: #D2E3FC;\n",
              "    }\n",
              "\n",
              "    [theme=dark] .colab-df-convert:hover {\n",
              "      background-color: #434B5C;\n",
              "      box-shadow: 0px 1px 3px 1px rgba(0, 0, 0, 0.15);\n",
              "      filter: drop-shadow(0px 1px 2px rgba(0, 0, 0, 0.3));\n",
              "      fill: #FFFFFF;\n",
              "    }\n",
              "  </style>\n",
              "\n",
              "      <script>\n",
              "        const buttonEl =\n",
              "          document.querySelector('#df-bc8cbd07-3803-4658-b68b-a4b68b15cab2 button.colab-df-convert');\n",
              "        buttonEl.style.display =\n",
              "          google.colab.kernel.accessAllowed ? 'block' : 'none';\n",
              "\n",
              "        async function convertToInteractive(key) {\n",
              "          const element = document.querySelector('#df-bc8cbd07-3803-4658-b68b-a4b68b15cab2');\n",
              "          const dataTable =\n",
              "            await google.colab.kernel.invokeFunction('convertToInteractive',\n",
              "                                                     [key], {});\n",
              "          if (!dataTable) return;\n",
              "\n",
              "          const docLinkHtml = 'Like what you see? Visit the ' +\n",
              "            '<a target=\"_blank\" href=https://colab.research.google.com/notebooks/data_table.ipynb>data table notebook</a>'\n",
              "            + ' to learn more about interactive tables.';\n",
              "          element.innerHTML = '';\n",
              "          dataTable['output_type'] = 'display_data';\n",
              "          await google.colab.output.renderOutput(dataTable, element);\n",
              "          const docLink = document.createElement('div');\n",
              "          docLink.innerHTML = docLinkHtml;\n",
              "          element.appendChild(docLink);\n",
              "        }\n",
              "      </script>\n",
              "    </div>\n",
              "  </div>\n"
            ]
          },
          "metadata": {},
          "execution_count": 11
        }
      ]
    },
    {
      "cell_type": "code",
      "source": [
        "# Convert sentiment to binary labels\n",
        "data['sentiment'] = data['sentiment'].map({'positive': 1, 'negative': 0})\n",
        "#data = data.sample(frac=1).reset_index(drop=True)  # Shuffling the dataset"
      ],
      "metadata": {
        "id": "yaZfBfUgKUdS"
      },
      "execution_count": null,
      "outputs": []
    },
    {
      "cell_type": "code",
      "source": [
        "data.head()"
      ],
      "metadata": {
        "colab": {
          "base_uri": "https://localhost:8080/",
          "height": 206
        },
        "id": "dSh9nQaBKzHy",
        "outputId": "c37b50b2-8c54-4731-d25e-30f8eedec934"
      },
      "execution_count": null,
      "outputs": [
        {
          "output_type": "execute_result",
          "data": {
            "text/plain": [
              "                                              review  sentiment\n",
              "0  one reviewers mentioned watching oz episode ho...          1\n",
              "1  wonderful little production br br filming tech...          1\n",
              "2  thought wonderful way spend time hot summer we...          1\n",
              "3  basically family little boy jake thinks zombie...          0\n",
              "4  petter mattei love time money visually stunnin...          1"
            ],
            "text/html": [
              "\n",
              "\n",
              "  <div id=\"df-0cc58103-295c-455e-83e6-a01031b79b2f\">\n",
              "    <div class=\"colab-df-container\">\n",
              "      <div>\n",
              "<style scoped>\n",
              "    .dataframe tbody tr th:only-of-type {\n",
              "        vertical-align: middle;\n",
              "    }\n",
              "\n",
              "    .dataframe tbody tr th {\n",
              "        vertical-align: top;\n",
              "    }\n",
              "\n",
              "    .dataframe thead th {\n",
              "        text-align: right;\n",
              "    }\n",
              "</style>\n",
              "<table border=\"1\" class=\"dataframe\">\n",
              "  <thead>\n",
              "    <tr style=\"text-align: right;\">\n",
              "      <th></th>\n",
              "      <th>review</th>\n",
              "      <th>sentiment</th>\n",
              "    </tr>\n",
              "  </thead>\n",
              "  <tbody>\n",
              "    <tr>\n",
              "      <th>0</th>\n",
              "      <td>one reviewers mentioned watching oz episode ho...</td>\n",
              "      <td>1</td>\n",
              "    </tr>\n",
              "    <tr>\n",
              "      <th>1</th>\n",
              "      <td>wonderful little production br br filming tech...</td>\n",
              "      <td>1</td>\n",
              "    </tr>\n",
              "    <tr>\n",
              "      <th>2</th>\n",
              "      <td>thought wonderful way spend time hot summer we...</td>\n",
              "      <td>1</td>\n",
              "    </tr>\n",
              "    <tr>\n",
              "      <th>3</th>\n",
              "      <td>basically family little boy jake thinks zombie...</td>\n",
              "      <td>0</td>\n",
              "    </tr>\n",
              "    <tr>\n",
              "      <th>4</th>\n",
              "      <td>petter mattei love time money visually stunnin...</td>\n",
              "      <td>1</td>\n",
              "    </tr>\n",
              "  </tbody>\n",
              "</table>\n",
              "</div>\n",
              "      <button class=\"colab-df-convert\" onclick=\"convertToInteractive('df-0cc58103-295c-455e-83e6-a01031b79b2f')\"\n",
              "              title=\"Convert this dataframe to an interactive table.\"\n",
              "              style=\"display:none;\">\n",
              "\n",
              "  <svg xmlns=\"http://www.w3.org/2000/svg\" height=\"24px\"viewBox=\"0 0 24 24\"\n",
              "       width=\"24px\">\n",
              "    <path d=\"M0 0h24v24H0V0z\" fill=\"none\"/>\n",
              "    <path d=\"M18.56 5.44l.94 2.06.94-2.06 2.06-.94-2.06-.94-.94-2.06-.94 2.06-2.06.94zm-11 1L8.5 8.5l.94-2.06 2.06-.94-2.06-.94L8.5 2.5l-.94 2.06-2.06.94zm10 10l.94 2.06.94-2.06 2.06-.94-2.06-.94-.94-2.06-.94 2.06-2.06.94z\"/><path d=\"M17.41 7.96l-1.37-1.37c-.4-.4-.92-.59-1.43-.59-.52 0-1.04.2-1.43.59L10.3 9.45l-7.72 7.72c-.78.78-.78 2.05 0 2.83L4 21.41c.39.39.9.59 1.41.59.51 0 1.02-.2 1.41-.59l7.78-7.78 2.81-2.81c.8-.78.8-2.07 0-2.86zM5.41 20L4 18.59l7.72-7.72 1.47 1.35L5.41 20z\"/>\n",
              "  </svg>\n",
              "      </button>\n",
              "\n",
              "\n",
              "\n",
              "    <div id=\"df-4e7965ea-44c8-4a28-bad5-2aa9c7af5941\">\n",
              "      <button class=\"colab-df-quickchart\" onclick=\"quickchart('df-4e7965ea-44c8-4a28-bad5-2aa9c7af5941')\"\n",
              "              title=\"Suggest charts.\"\n",
              "              style=\"display:none;\">\n",
              "\n",
              "<svg xmlns=\"http://www.w3.org/2000/svg\" height=\"24px\"viewBox=\"0 0 24 24\"\n",
              "     width=\"24px\">\n",
              "    <g>\n",
              "        <path d=\"M19 3H5c-1.1 0-2 .9-2 2v14c0 1.1.9 2 2 2h14c1.1 0 2-.9 2-2V5c0-1.1-.9-2-2-2zM9 17H7v-7h2v7zm4 0h-2V7h2v10zm4 0h-2v-4h2v4z\"/>\n",
              "    </g>\n",
              "</svg>\n",
              "      </button>\n",
              "    </div>\n",
              "\n",
              "<style>\n",
              "  .colab-df-quickchart {\n",
              "    background-color: #E8F0FE;\n",
              "    border: none;\n",
              "    border-radius: 50%;\n",
              "    cursor: pointer;\n",
              "    display: none;\n",
              "    fill: #1967D2;\n",
              "    height: 32px;\n",
              "    padding: 0 0 0 0;\n",
              "    width: 32px;\n",
              "  }\n",
              "\n",
              "  .colab-df-quickchart:hover {\n",
              "    background-color: #E2EBFA;\n",
              "    box-shadow: 0px 1px 2px rgba(60, 64, 67, 0.3), 0px 1px 3px 1px rgba(60, 64, 67, 0.15);\n",
              "    fill: #174EA6;\n",
              "  }\n",
              "\n",
              "  [theme=dark] .colab-df-quickchart {\n",
              "    background-color: #3B4455;\n",
              "    fill: #D2E3FC;\n",
              "  }\n",
              "\n",
              "  [theme=dark] .colab-df-quickchart:hover {\n",
              "    background-color: #434B5C;\n",
              "    box-shadow: 0px 1px 3px 1px rgba(0, 0, 0, 0.15);\n",
              "    filter: drop-shadow(0px 1px 2px rgba(0, 0, 0, 0.3));\n",
              "    fill: #FFFFFF;\n",
              "  }\n",
              "</style>\n",
              "\n",
              "    <script>\n",
              "      async function quickchart(key) {\n",
              "        const containerElement = document.querySelector('#' + key);\n",
              "        const charts = await google.colab.kernel.invokeFunction(\n",
              "            'suggestCharts', [key], {});\n",
              "      }\n",
              "    </script>\n",
              "\n",
              "      <script>\n",
              "\n",
              "function displayQuickchartButton(domScope) {\n",
              "  let quickchartButtonEl =\n",
              "    domScope.querySelector('#df-4e7965ea-44c8-4a28-bad5-2aa9c7af5941 button.colab-df-quickchart');\n",
              "  quickchartButtonEl.style.display =\n",
              "    google.colab.kernel.accessAllowed ? 'block' : 'none';\n",
              "}\n",
              "\n",
              "        displayQuickchartButton(document);\n",
              "      </script>\n",
              "      <style>\n",
              "    .colab-df-container {\n",
              "      display:flex;\n",
              "      flex-wrap:wrap;\n",
              "      gap: 12px;\n",
              "    }\n",
              "\n",
              "    .colab-df-convert {\n",
              "      background-color: #E8F0FE;\n",
              "      border: none;\n",
              "      border-radius: 50%;\n",
              "      cursor: pointer;\n",
              "      display: none;\n",
              "      fill: #1967D2;\n",
              "      height: 32px;\n",
              "      padding: 0 0 0 0;\n",
              "      width: 32px;\n",
              "    }\n",
              "\n",
              "    .colab-df-convert:hover {\n",
              "      background-color: #E2EBFA;\n",
              "      box-shadow: 0px 1px 2px rgba(60, 64, 67, 0.3), 0px 1px 3px 1px rgba(60, 64, 67, 0.15);\n",
              "      fill: #174EA6;\n",
              "    }\n",
              "\n",
              "    [theme=dark] .colab-df-convert {\n",
              "      background-color: #3B4455;\n",
              "      fill: #D2E3FC;\n",
              "    }\n",
              "\n",
              "    [theme=dark] .colab-df-convert:hover {\n",
              "      background-color: #434B5C;\n",
              "      box-shadow: 0px 1px 3px 1px rgba(0, 0, 0, 0.15);\n",
              "      filter: drop-shadow(0px 1px 2px rgba(0, 0, 0, 0.3));\n",
              "      fill: #FFFFFF;\n",
              "    }\n",
              "  </style>\n",
              "\n",
              "      <script>\n",
              "        const buttonEl =\n",
              "          document.querySelector('#df-0cc58103-295c-455e-83e6-a01031b79b2f button.colab-df-convert');\n",
              "        buttonEl.style.display =\n",
              "          google.colab.kernel.accessAllowed ? 'block' : 'none';\n",
              "\n",
              "        async function convertToInteractive(key) {\n",
              "          const element = document.querySelector('#df-0cc58103-295c-455e-83e6-a01031b79b2f');\n",
              "          const dataTable =\n",
              "            await google.colab.kernel.invokeFunction('convertToInteractive',\n",
              "                                                     [key], {});\n",
              "          if (!dataTable) return;\n",
              "\n",
              "          const docLinkHtml = 'Like what you see? Visit the ' +\n",
              "            '<a target=\"_blank\" href=https://colab.research.google.com/notebooks/data_table.ipynb>data table notebook</a>'\n",
              "            + ' to learn more about interactive tables.';\n",
              "          element.innerHTML = '';\n",
              "          dataTable['output_type'] = 'display_data';\n",
              "          await google.colab.output.renderOutput(dataTable, element);\n",
              "          const docLink = document.createElement('div');\n",
              "          docLink.innerHTML = docLinkHtml;\n",
              "          element.appendChild(docLink);\n",
              "        }\n",
              "      </script>\n",
              "    </div>\n",
              "  </div>\n"
            ]
          },
          "metadata": {},
          "execution_count": 13
        }
      ]
    },
    {
      "cell_type": "code",
      "source": [
        "X = data['review'].values\n",
        "y = data['sentiment'].values"
      ],
      "metadata": {
        "id": "PBWHI_AwK5ba"
      },
      "execution_count": null,
      "outputs": []
    },
    {
      "cell_type": "code",
      "source": [
        "# Splitting the dataset\n",
        "\n",
        "X_train_val, X_test, y_train_val, y_test = train_test_split(X, y, test_size=0.1, random_state=42)\n",
        "X_train, X_val, y_train, y_val = train_test_split(X_train_val, y_train_val, test_size=0.111, random_state=42)\n",
        "#hasilnya 40005"
      ],
      "metadata": {
        "id": "e6NdRetbNCTE"
      },
      "execution_count": null,
      "outputs": []
    },
    {
      "cell_type": "code",
      "source": [
        "# Print the sizes of each set\n",
        "print(\"Training set size:\", len(X_train))\n",
        "print(\"Validation set size:\", len(X_val))\n",
        "print(\"Testing set size:\", len(X_test))"
      ],
      "metadata": {
        "colab": {
          "base_uri": "https://localhost:8080/"
        },
        "id": "1spvLfM6NF8H",
        "outputId": "1570b41e-deb9-41f0-98c0-60e2cf988ee1"
      },
      "execution_count": null,
      "outputs": [
        {
          "output_type": "stream",
          "name": "stdout",
          "text": [
            "Training set size: 40005\n",
            "Validation set size: 4995\n",
            "Testing set size: 5000\n"
          ]
        }
      ]
    },
    {
      "cell_type": "code",
      "source": [
        "X_train"
      ],
      "metadata": {
        "colab": {
          "base_uri": "https://localhost:8080/"
        },
        "id": "Un2SJJrbLjL0",
        "outputId": "be03d79a-c1f8-4381-98b4-61293af553c8"
      },
      "execution_count": null,
      "outputs": [
        {
          "output_type": "execute_result",
          "data": {
            "text/plain": [
              "array(['one movies get better every time see packed many original unconventional ideas always find new detail sabu subsequent movies see unlucky monkey yet ones great failure chance humanism play great roles cutting montage inventive artistic without movie art picture highly entertaining one comparing run lola run keep mind dangan ranna made years shown german tv early probable served inspiration tom tykwer movie way around complementary reviews add like acting ending much movie lot fun many ways manages deliver message without annoying pretentious',\n",
              "       'dollars wedding ring scene riot also guffawed scene bar hyde snorted horse radish flipped bird japanese guy said pearl harbor buddy think iq higher sure count high br br funny thing line requirement seems though would bash making comments long short hope make words get line br br still two lines short pardon think drink drink think depends whether hands faster mind good think made line limit thanks reading',\n",
              "       'went see movie simply see hype disappointed surprised got oscars rating imdb today br br kathryn bigelow luckiest director ever win best picture best direction oscar sort really really bad movie wonder totally unrealistic cowboy bomb disposal man storyline mean anything somebody failed see keep getting mental image movie remake old bad western movie cowboy brave deeds wild wild west infected evil red indians set different background time given oscars director ex james cameron made nice underdog gossipy story day time tv shows munch sort emperor clothes syndrome people realized junk say others seem saying aloud br br finally sniper scene showed shell casing dropping high resolution super slow mo convey deep message something something lines eod guys make good snipers sudden get filthy terrorists time felt like many bits pieces movie squeezed apparent reason get oscars editing directing br br seen yet waste money tickets wait till run tv years going miss much',\n",
              "       ...,\n",
              "       'something really love woman short films elusiveness theme especially living happiness film nice beginnings unusual location potential strange cinematic treatment fails succeed clunky expositional dialogue patchy performances television coverage br br charming television ordinary cinema ideas fleshed almost feel pat like television commercial sentiment good complain much br br really would love see director make full length animation try work producer demand much boring clarity',\n",
              "       'movie plain bad every cop movie clich present accounted bad guy gets away check partner check wacky personality clash partner check rookie something prove check rookie shows grizzled veteran check ones touch idiot shoot foot retirony guess saving old chestnuts dooley next outing add battle sexes girl power along tired old sight gags banal overdone material like dooley prize car getting trashed time recipe one really bad movie avoid one costs',\n",
              "       'three stooges always many actors loved love every one shorts made love six stooges curly shemp moe larry joe curly joe shorts hilarious also star many great actors actresses lot many shorts opinion three stooges greatest actors ever time funniest comedy team br br good three stooges short funny cast includes christine mcintyre symona boniface gino corrado fred kelsey sam flint chester conklin theodore lorch lynton brent judy malcolm vernon dent john tyrrell heinie conklin bess flowers stooges performed well short recommend one'],\n",
              "      dtype=object)"
            ]
          },
          "metadata": {},
          "execution_count": 17
        }
      ]
    },
    {
      "cell_type": "code",
      "source": [
        "X_train[0]"
      ],
      "metadata": {
        "colab": {
          "base_uri": "https://localhost:8080/",
          "height": 70
        },
        "id": "Em22KiTpwZyZ",
        "outputId": "0a8051c4-5a59-485c-d4c8-1357ee18a3e0"
      },
      "execution_count": null,
      "outputs": [
        {
          "output_type": "execute_result",
          "data": {
            "text/plain": [
              "'one movies get better every time see packed many original unconventional ideas always find new detail sabu subsequent movies see unlucky monkey yet ones great failure chance humanism play great roles cutting montage inventive artistic without movie art picture highly entertaining one comparing run lola run keep mind dangan ranna made years shown german tv early probable served inspiration tom tykwer movie way around complementary reviews add like acting ending much movie lot fun many ways manages deliver message without annoying pretentious'"
            ],
            "application/vnd.google.colaboratory.intrinsic+json": {
              "type": "string"
            }
          },
          "metadata": {},
          "execution_count": 18
        }
      ]
    },
    {
      "cell_type": "code",
      "source": [
        "X_train[40004]"
      ],
      "metadata": {
        "colab": {
          "base_uri": "https://localhost:8080/",
          "height": 70
        },
        "id": "3kpmo9chwfIg",
        "outputId": "48094f95-62df-4aca-ee0e-3767543118c3"
      },
      "execution_count": null,
      "outputs": [
        {
          "output_type": "execute_result",
          "data": {
            "text/plain": [
              "'three stooges always many actors loved love every one shorts made love six stooges curly shemp moe larry joe curly joe shorts hilarious also star many great actors actresses lot many shorts opinion three stooges greatest actors ever time funniest comedy team br br good three stooges short funny cast includes christine mcintyre symona boniface gino corrado fred kelsey sam flint chester conklin theodore lorch lynton brent judy malcolm vernon dent john tyrrell heinie conklin bess flowers stooges performed well short recommend one'"
            ],
            "application/vnd.google.colaboratory.intrinsic+json": {
              "type": "string"
            }
          },
          "metadata": {},
          "execution_count": 19
        }
      ]
    },
    {
      "cell_type": "code",
      "source": [
        "y_train[0]"
      ],
      "metadata": {
        "colab": {
          "base_uri": "https://localhost:8080/"
        },
        "id": "Ne25-jtHoSvY",
        "outputId": "69bf3120-5dda-4a81-cb5c-8045cdbc0c02"
      },
      "execution_count": null,
      "outputs": [
        {
          "output_type": "execute_result",
          "data": {
            "text/plain": [
              "1"
            ]
          },
          "metadata": {},
          "execution_count": 20
        }
      ]
    },
    {
      "cell_type": "code",
      "source": [
        "y_train[40004]"
      ],
      "metadata": {
        "colab": {
          "base_uri": "https://localhost:8080/"
        },
        "id": "vzakdqKBw6li",
        "outputId": "dbe9bfee-c173-4ec6-b54f-7e459d02416d"
      },
      "execution_count": null,
      "outputs": [
        {
          "output_type": "execute_result",
          "data": {
            "text/plain": [
              "1"
            ]
          },
          "metadata": {},
          "execution_count": 21
        }
      ]
    },
    {
      "cell_type": "code",
      "source": [
        "# Tokenizing the texts\n",
        "vocab_size = 10000  # Maximum number of words to keep in the vocabulary\n",
        "tokenizer = Tokenizer(num_words=vocab_size)\n",
        "tokenizer.fit_on_texts(X_train)"
      ],
      "metadata": {
        "id": "MogSw6Q3olY5"
      },
      "execution_count": null,
      "outputs": []
    },
    {
      "cell_type": "code",
      "source": [
        "X_train"
      ],
      "metadata": {
        "colab": {
          "base_uri": "https://localhost:8080/"
        },
        "id": "fbEyRr0MxF5q",
        "outputId": "3370f710-bfa1-4bed-919d-be8962358744"
      },
      "execution_count": null,
      "outputs": [
        {
          "output_type": "execute_result",
          "data": {
            "text/plain": [
              "array(['one movies get better every time see packed many original unconventional ideas always find new detail sabu subsequent movies see unlucky monkey yet ones great failure chance humanism play great roles cutting montage inventive artistic without movie art picture highly entertaining one comparing run lola run keep mind dangan ranna made years shown german tv early probable served inspiration tom tykwer movie way around complementary reviews add like acting ending much movie lot fun many ways manages deliver message without annoying pretentious',\n",
              "       'dollars wedding ring scene riot also guffawed scene bar hyde snorted horse radish flipped bird japanese guy said pearl harbor buddy think iq higher sure count high br br funny thing line requirement seems though would bash making comments long short hope make words get line br br still two lines short pardon think drink drink think depends whether hands faster mind good think made line limit thanks reading',\n",
              "       'went see movie simply see hype disappointed surprised got oscars rating imdb today br br kathryn bigelow luckiest director ever win best picture best direction oscar sort really really bad movie wonder totally unrealistic cowboy bomb disposal man storyline mean anything somebody failed see keep getting mental image movie remake old bad western movie cowboy brave deeds wild wild west infected evil red indians set different background time given oscars director ex james cameron made nice underdog gossipy story day time tv shows munch sort emperor clothes syndrome people realized junk say others seem saying aloud br br finally sniper scene showed shell casing dropping high resolution super slow mo convey deep message something something lines eod guys make good snipers sudden get filthy terrorists time felt like many bits pieces movie squeezed apparent reason get oscars editing directing br br seen yet waste money tickets wait till run tv years going miss much',\n",
              "       ...,\n",
              "       'something really love woman short films elusiveness theme especially living happiness film nice beginnings unusual location potential strange cinematic treatment fails succeed clunky expositional dialogue patchy performances television coverage br br charming television ordinary cinema ideas fleshed almost feel pat like television commercial sentiment good complain much br br really would love see director make full length animation try work producer demand much boring clarity',\n",
              "       'movie plain bad every cop movie clich present accounted bad guy gets away check partner check wacky personality clash partner check rookie something prove check rookie shows grizzled veteran check ones touch idiot shoot foot retirony guess saving old chestnuts dooley next outing add battle sexes girl power along tired old sight gags banal overdone material like dooley prize car getting trashed time recipe one really bad movie avoid one costs',\n",
              "       'three stooges always many actors loved love every one shorts made love six stooges curly shemp moe larry joe curly joe shorts hilarious also star many great actors actresses lot many shorts opinion three stooges greatest actors ever time funniest comedy team br br good three stooges short funny cast includes christine mcintyre symona boniface gino corrado fred kelsey sam flint chester conklin theodore lorch lynton brent judy malcolm vernon dent john tyrrell heinie conklin bess flowers stooges performed well short recommend one'],\n",
              "      dtype=object)"
            ]
          },
          "metadata": {},
          "execution_count": 23
        }
      ]
    },
    {
      "cell_type": "code",
      "source": [
        "# Converting text sequences to integer sequences\n",
        "train_seq = tokenizer.texts_to_sequences(X_train)\n",
        "val_seq = tokenizer.texts_to_sequences(X_val)\n",
        "test_seq = tokenizer.texts_to_sequences(X_test)"
      ],
      "metadata": {
        "id": "_FCHovxmoz_B"
      },
      "execution_count": null,
      "outputs": []
    },
    {
      "cell_type": "code",
      "source": [
        "train_seq[0]"
      ],
      "metadata": {
        "colab": {
          "base_uri": "https://localhost:8080/"
        },
        "id": "NUQ3TBDd1k27",
        "outputId": "ababf6d0-430c-4a52-c44e-48ae05d41512"
      },
      "execution_count": null,
      "outputs": [
        {
          "output_type": "execute_result",
          "data": {
            "text/plain": [
              "[4,\n",
              " 25,\n",
              " 16,\n",
              " 45,\n",
              " 73,\n",
              " 7,\n",
              " 12,\n",
              " 2677,\n",
              " 33,\n",
              " 103,\n",
              " 6447,\n",
              " 870,\n",
              " 107,\n",
              " 70,\n",
              " 72,\n",
              " 1380,\n",
              " 3559,\n",
              " 25,\n",
              " 12,\n",
              " 8785,\n",
              " 2991,\n",
              " 134,\n",
              " 532,\n",
              " 17,\n",
              " 1861,\n",
              " 455,\n",
              " 174,\n",
              " 17,\n",
              " 462,\n",
              " 2194,\n",
              " 3819,\n",
              " 3995,\n",
              " 1453,\n",
              " 102,\n",
              " 2,\n",
              " 359,\n",
              " 307,\n",
              " 411,\n",
              " 305,\n",
              " 4,\n",
              " 3979,\n",
              " 365,\n",
              " 6894,\n",
              " 365,\n",
              " 266,\n",
              " 206,\n",
              " 21,\n",
              " 60,\n",
              " 468,\n",
              " 862,\n",
              " 127,\n",
              " 279,\n",
              " 2604,\n",
              " 2678,\n",
              " 686,\n",
              " 2,\n",
              " 23,\n",
              " 83,\n",
              " 688,\n",
              " 570,\n",
              " 5,\n",
              " 36,\n",
              " 155,\n",
              " 14,\n",
              " 2,\n",
              " 71,\n",
              " 135,\n",
              " 33,\n",
              " 621,\n",
              " 857,\n",
              " 1475,\n",
              " 628,\n",
              " 102,\n",
              " 507,\n",
              " 1901]"
            ]
          },
          "metadata": {},
          "execution_count": 25
        }
      ]
    },
    {
      "cell_type": "code",
      "source": [
        "import numpy as np\n",
        "train_seq = np.array(train_seq)  # Convert train_seq to a numpy array\n",
        "print(train_seq.shape)  # Print the shape of train_seq\n",
        "\n",
        "lengths = [len(seq) for seq in train_seq]\n",
        "print(min(lengths))  # Print the minimum sequence length\n",
        "print(max(lengths))  # Print the maximum sequence length"
      ],
      "metadata": {
        "colab": {
          "base_uri": "https://localhost:8080/"
        },
        "id": "4UcdiyJM2uU6",
        "outputId": "a5f25f36-0354-47bb-9ef6-4df4f1ae2134"
      },
      "execution_count": null,
      "outputs": [
        {
          "output_type": "stream",
          "name": "stdout",
          "text": [
            "(40005,)\n",
            "3\n",
            "1086\n"
          ]
        },
        {
          "output_type": "stream",
          "name": "stderr",
          "text": [
            "<ipython-input-13-2790d17abbec>:2: VisibleDeprecationWarning: Creating an ndarray from ragged nested sequences (which is a list-or-tuple of lists-or-tuples-or ndarrays with different lengths or shapes) is deprecated. If you meant to do this, you must specify 'dtype=object' when creating the ndarray.\n",
            "  train_seq = np.array(train_seq)  # Convert train_seq to a numpy array\n"
          ]
        }
      ]
    },
    {
      "cell_type": "code",
      "source": [
        "train_seq"
      ],
      "metadata": {
        "colab": {
          "base_uri": "https://localhost:8080/"
        },
        "id": "_U37cMkwBkTP",
        "outputId": "503194a6-3882-4463-86a0-eb0acdf26d1c"
      },
      "execution_count": null,
      "outputs": [
        {
          "output_type": "execute_result",
          "data": {
            "text/plain": [
              "array([list([4, 25, 16, 45, 73, 7, 12, 2677, 33, 103, 6447, 870, 107, 70, 72, 1380, 3559, 25, 12, 8785, 2991, 134, 532, 17, 1861, 455, 174, 17, 462, 2194, 3819, 3995, 1453, 102, 2, 359, 307, 411, 305, 4, 3979, 365, 6894, 365, 266, 206, 21, 60, 468, 862, 127, 279, 2604, 2678, 686, 2, 23, 83, 688, 570, 5, 36, 155, 14, 2, 71, 135, 33, 621, 857, 1475, 628, 102, 507, 1901]),\n",
              "       list([2047, 1877, 1676, 47, 5069, 19, 47, 1285, 4958, 1470, 3057, 754, 104, 186, 3929, 6556, 1709, 27, 7357, 1844, 142, 1309, 189, 1, 1, 58, 56, 228, 84, 59, 9, 8094, 123, 638, 91, 213, 311, 22, 533, 16, 228, 1, 1, 48, 31, 290, 213, 27, 2767, 2767, 27, 5653, 584, 760, 4237, 206, 6, 27, 21, 228, 5283, 1057, 746]),\n",
              "       list([302, 12, 2, 215, 12, 3382, 537, 622, 92, 3487, 534, 707, 367, 1, 1, 7986, 61, 43, 1120, 40, 307, 40, 334, 665, 300, 11, 11, 15, 2, 445, 326, 1955, 2768, 1784, 44, 609, 259, 124, 1589, 1074, 12, 266, 262, 1619, 1297, 2, 893, 62, 15, 727, 2, 2768, 2569, 8471, 1166, 1166, 1023, 5362, 335, 699, 2964, 154, 168, 803, 7, 244, 3487, 61, 1056, 475, 2899, 21, 217, 7430, 10, 140, 7, 127, 164, 300, 3383, 1485, 5252, 18, 1495, 2434, 49, 276, 198, 485, 1, 1, 292, 8472, 47, 1033, 5654, 4682, 189, 3228, 1024, 423, 9097, 2815, 690, 628, 51, 51, 290, 318, 22, 6, 2189, 16, 6448, 3797, 7, 315, 5, 33, 1534, 1077, 2, 1640, 173, 16, 3487, 658, 824, 1, 1, 32, 134, 327, 178, 6949, 714, 2201, 365, 127, 60, 69, 551, 14]),\n",
              "       ...,\n",
              "       list([51, 11, 35, 137, 213, 30, 626, 149, 473, 2714, 3, 217, 1610, 1288, 882, 529, 1150, 2069, 840, 3056, 7465, 287, 251, 557, 9677, 1, 1, 1170, 557, 1688, 308, 870, 7645, 110, 122, 3010, 5, 557, 1983, 5977, 6, 3868, 14, 1, 1, 11, 9, 35, 12, 61, 22, 239, 1421, 691, 235, 65, 1110, 4091, 14, 231, 7341]),\n",
              "       list([2, 866, 15, 73, 798, 2, 543, 831, 15, 104, 111, 133, 669, 1786, 669, 4307, 1473, 6176, 1786, 669, 7591, 51, 1739, 669, 7591, 164, 2287, 669, 532, 1041, 2347, 1011, 2091, 348, 1671, 62, 255, 5078, 570, 768, 132, 492, 222, 1244, 62, 1496, 1604, 4890, 3881, 674, 5, 4228, 387, 262, 7, 8370, 4, 11, 15, 2, 671, 4, 2214]),\n",
              "       list([160, 3575, 107, 33, 57, 312, 35, 73, 4, 2513, 21, 35, 1266, 3575, 5643, 7298, 6015, 2039, 821, 5643, 821, 2513, 436, 19, 205, 33, 17, 57, 1337, 71, 33, 2513, 531, 160, 3575, 660, 57, 43, 7, 1355, 97, 569, 1, 1, 6, 160, 3575, 213, 58, 77, 1559, 5617, 1998, 1137, 7861, 8854, 4711, 7168, 196, 6228, 3575, 2166, 13, 213, 252, 4])],\n",
              "      dtype=object)"
            ]
          },
          "metadata": {},
          "execution_count": 27
        }
      ]
    },
    {
      "cell_type": "code",
      "source": [
        "min_length_index = np.argmin(lengths)\n",
        "max_length_index = np.argmax(lengths)\n",
        "\n",
        "sequence_with_min_length = X_train[min_length_index]\n",
        "sequence_with_max_length = X_train[max_length_index]\n",
        "\n",
        "print(\"Sequence with minimum length:\", sequence_with_min_length)\n",
        "print(\"Sequence with maximum length:\", sequence_with_max_length)"
      ],
      "metadata": {
        "colab": {
          "base_uri": "https://localhost:8080/"
        },
        "id": "-U0HGEs_3e12",
        "outputId": "94ce4f82-7f0a-4289-afec-1a6e51150aef"
      },
      "execution_count": null,
      "outputs": [
        {
          "output_type": "stream",
          "name": "stdout",
          "text": [
            "Sequence with minimum length: script story mess\n",
            "Sequence with maximum length: sign lost highway says br br major spoilers ahead br br already knew br br since great deal people apparently get point movie like contribute interpretation plot makes perfect sense others pointed one single viewing movie sufficient dvd md cheat looking david lynch top hints unlocking md upon second third viewing please br br first mulholland drive downright brilliant masterpiece kind movie refuse leave head often comments dvds accurate vogue gets inside head stays really hit mark br br david lynch deserves praise creating movie beautifully stylish look cinematography wise great acting esp naomi watts haunting soundtrack badalamenti dream like quality top also manages involve viewer way movies last time saw movie leave mind everyone felt compelled talk write regardless whether liked hated br br allright enough time justify statements br br people gone effort try piece plot together come conclusion first half picture illusion dream sequence br br course bad trying make sense movie expecting traditional methods story laid timely logic linear manner viewer expecting urge check name director come back br br md story sad demise diane selwyn wannabe actor hopelessly love another actor camilla rowles due diane lack talent constantly struggling advance career feels failed deliver parents expectations upon realizing camilla never becomes engaged adam kesher director hires hitman get rid subsequently deal guilt produces br br movie first starts may seem strange opening kind thriller dance jitterbug contest see main character betty giving great performance also see elderly couple see twice throughout movie together applauding br br wait people see first time view actually another significant fact given credits camera moving object although blurry scene quickly fading look closely object actually pillow revealing follows dream br br main characters seen first half movie br br betty diane selwyn imaginary self used first half movie constitutes dream sequence positive portrayal successful aspiring young actor complete opposite diane betty chosen name real name waitress winkies notice dream version waitresses name diane br br rita fantasy version camilla rhodes diane dream help imaginary car accident turned amnesiac makes vulnerable dependent diane love conveniently placed betty diane aunt luxurious home betty allowed stay br br coco real life adam mother dream part woman charge apartment complex betty stays mainly strong authority figure witnessed parts film br br adam director know second half gets engaged camilla sole purpose first half movie serve punching bag betty diane since develops hatred towards br br aunt ruth diane real aunt instead town actually dead diane inherited money left aunt used pay camilla murder br br mr roach typical lynchian character real appears diane dream sequence mysterious influential person controls chain events dream wheelchair serves much function backwards talking dwarf also plays twin peaks br br hitman person murders camilla character basically parts movie although rendered slightly goofy fashion dream sequence br br established various versions characters movie begin delve plot course go every little detail neither lay chronologically try explain important scenes relation lynch hint sheet br br mentioned camilla produced amnesiac improbable survival car accident first minutes movie left completely vulnerable found intriguing md lynch constantly gives hints real already mentioned camera moving pillow notice two cars riding lane approaching limo br br one cars actually hit limo even stayed clear accident try help others least call help theory since dream presence car set aside forgotten since rogert ebert eloquently puts like real dreams explain complete sequences lingers finds fascinating dismisses unpromising plotlines br br shortly rita crawls crash site mulholland dr makes way hillside sneaks aunt ruth apartment betty arrives see creepy old couple driving away staring ghoulishly grinning camera first indication seeing nightmare br br although old couple seem unfamiliar betty think actually parents since applauding jitterbug contest perhaps know well really good relationship wanted couple shown pleasant helpful dream also represent feelings guilt murder diane sense unfulfillment regarding unachieved goals life br br rather long hilarious scene one involving hitman diane apparently sees major force behind campaign trying pressure director accept camilla part movie adam party second half movie therefore occupies major part dream feelings guilt remorse towards murder camilla part wants miss turns dumb criminal br br scene think also lynch attempt totally screwing audience since given false pretence view movie br br gotta love something bit bad line though br br next interesting scene one two persons twinkies conversation one keep recurring nightmare involving man seen wall outside diner sitting little talk head outside keep walking toward corner fence accompanied course excellent music matching mood scene br br reaching corner bum like character disfigured face appears behind corner scaring living crap man nightmare nightmare exists diane mind saw guy diner paying murder short obessions translate poor guy nightmares bum also signifies diane evil side witnessed later movie br br cowboy constitutes along dwarf one strange characters always present lynchian landscape diane saw short adam party like dreams award insignificant persons hardly know major part dreams awarded important part dream also given clues scenes seeing real sudden disappearance etc br br cowboy also used tool mock director meets odd location lights give clear indication part dream also notice says appear one time adam good two times bad throughout movie appears two times indicating diane bad also one wake reality scene probably illusion made fit requirements appearing twice shortly thereafter commits suicide br br espresso scene castigliane brothers see badalamenti composer luigi probably result fact diane espresso camilla adam made announcement adam party second half could time also statement lynch br br scene enter diane apartment body lying bed camilla notice assumed diane sleeping position diane seeing dream face although wounds face diane would shooting scene also filled genuine lynchian creepiness since diane know hitman would get camilla finish put home br br real life diane audition movie part bad dream delivers perfect audition leaving whole crew ecstatic performance br br also interesting fact money real life used pay camilla murder appears rita camilla purse part diane undoing terrible act effectively given money back murder taken place br br neighbor arrives get piano shaped ashtray another hint given takes ashtray table leaves yet later camilla betty encounter couch see ashtray appear camera pans table suggesting betty encounter neighbor fantasy br br catch phrase movie adam auditioning actresses girl exact words diane uses giving hitman camilla photo resume br br blue box key represent major turning point movie true identities characters revealed much symbolism going box may represent diane future empty may sort pandora box hitman laughs asks key open either way connected murder means blue key placed next murder taken place box also seen end movie hands disfigured bum br br club silencio neat little addition remind viewer viewing real also signifies diane wake reality reality nightmare unable escape even dreams br br chilling scene end creepy old couple reappear diane tormented way sees suicide way order escape screams avoid haunted fears br br anyway hope could help people bashing movie calling worst movie ever something effect without realizing plot br br usual lynch creating irrational fears certainly achieves picture well br br\n"
          ]
        }
      ]
    },
    {
      "cell_type": "code",
      "source": [
        "length_train_seq_1 = len(train_seq[2])\n",
        "\n",
        "print(length_train_seq_1)"
      ],
      "metadata": {
        "colab": {
          "base_uri": "https://localhost:8080/"
        },
        "id": "eQ_TTu-A7PQF",
        "outputId": "52247dc9-f0c1-4d20-9d3c-e743fc7a6713"
      },
      "execution_count": null,
      "outputs": [
        {
          "output_type": "stream",
          "name": "stdout",
          "text": [
            "144\n"
          ]
        }
      ]
    },
    {
      "cell_type": "code",
      "source": [
        "# Padding sequences\n",
        "#max_sequence_length = max([len(seq) for seq in train_seq])\n",
        "max_length = 100  # Maximum sequence length\n",
        "train_data = pad_sequences(train_seq, maxlen=max_length)\n",
        "val_data = pad_sequences(val_seq, maxlen=max_length)\n",
        "test_data = pad_sequences(test_seq, maxlen=max_length)"
      ],
      "metadata": {
        "id": "qDdWBBITpRYf"
      },
      "execution_count": null,
      "outputs": []
    },
    {
      "cell_type": "code",
      "source": [
        "train_data[1]"
      ],
      "metadata": {
        "colab": {
          "base_uri": "https://localhost:8080/"
        },
        "id": "5lpK_uftpfJv",
        "outputId": "77d1d327-b544-4f0b-fcac-1091aa04d936"
      },
      "execution_count": null,
      "outputs": [
        {
          "output_type": "execute_result",
          "data": {
            "text/plain": [
              "array([   0,    0,    0,    0,    0,    0,    0,    0,    0,    0,    0,\n",
              "          0,    0,    0,    0,    0,    0,    0,    0,    0,    0,    0,\n",
              "          0,    0,    0,    0,    0,    0,    0,    0,    0,    0,    0,\n",
              "          0,    0,    0,    0, 2047, 1877, 1676,   47, 5069,   19,   47,\n",
              "       1285, 4958, 1470, 3057,  754,  104,  186, 3929, 6556, 1709,   27,\n",
              "       7357, 1844,  142, 1309,  189,    1,    1,   58,   56,  228,   84,\n",
              "         59,    9, 8094,  123,  638,   91,  213,  311,   22,  533,   16,\n",
              "        228,    1,    1,   48,   31,  290,  213,   27, 2767, 2767,   27,\n",
              "       5653,  584,  760, 4237,  206,    6,   27,   21,  228, 5283, 1057,\n",
              "        746], dtype=int32)"
            ]
          },
          "metadata": {},
          "execution_count": 31
        }
      ]
    },
    {
      "cell_type": "code",
      "source": [
        "length_train_data = len(train_data[2])\n",
        "\n",
        "print(length_train_data)"
      ],
      "metadata": {
        "colab": {
          "base_uri": "https://localhost:8080/"
        },
        "id": "nOr57ntB8hBN",
        "outputId": "ad963716-8bf6-4abd-d229-68129c4c798d"
      },
      "execution_count": null,
      "outputs": [
        {
          "output_type": "stream",
          "name": "stdout",
          "text": [
            "100\n"
          ]
        }
      ]
    },
    {
      "cell_type": "code",
      "source": [
        "train_data = np.array(train_data)  # Convert train_seq to a numpy array\n",
        "shape_train_data = train_data[1].shape\n",
        "\n",
        "print(shape_train_data)"
      ],
      "metadata": {
        "colab": {
          "base_uri": "https://localhost:8080/"
        },
        "id": "RWK1rJ2X8yyw",
        "outputId": "2a56d8d5-afb6-44cb-ad1c-2705c49bd403"
      },
      "execution_count": null,
      "outputs": [
        {
          "output_type": "stream",
          "name": "stdout",
          "text": [
            "(100,)\n"
          ]
        }
      ]
    },
    {
      "cell_type": "code",
      "source": [
        "# Loading the GloVe word embeddings\n",
        "glove_path = 'drive/My Drive/data/glove.6B.100d.txt'"
      ],
      "metadata": {
        "id": "FD4IAlN_qHZn"
      },
      "execution_count": null,
      "outputs": []
    },
    {
      "cell_type": "code",
      "source": [
        "import numpy as np\n",
        "embedding_dim = 100  # Dimensionality of the word embeddings\n",
        "embedding_index = {} #empty dictionary that will store the word embeddings. Each word will be associated with its corresponding embedding coefficients.\n",
        "with open(glove_path, 'r') as f:\n",
        "    for line in f:\n",
        "        values = line.split() #Inside the loop, the current line is split into individual values using the split method, which splits the line based on whitespace. The resulting values are stored in the values list.\n",
        "        word = values[0] #The first value in values (index 0) is assigned to the variable word. This represents the word itself.\n",
        "        coefficients = np.asarray(values[1:], dtype='float32') #The word (word) and its corresponding coefficients (coefficients) are stored as a key-value pair in the embedding_index dictionary.\n",
        "        embedding_index[word] = coefficients #After the loop ends, the embedding_index dictionary will contain the word embeddings for all words in the file."
      ],
      "metadata": {
        "id": "X9ufVpDCqKj9"
      },
      "execution_count": null,
      "outputs": []
    },
    {
      "cell_type": "code",
      "source": [
        "embedding_index['poor']"
      ],
      "metadata": {
        "colab": {
          "base_uri": "https://localhost:8080/"
        },
        "id": "lnDiuWLYqh70",
        "outputId": "ee8abac5-3f06-4eb3-84c2-93146f245d3d"
      },
      "execution_count": null,
      "outputs": [
        {
          "output_type": "execute_result",
          "data": {
            "text/plain": [
              "array([ 4.3508e-01,  4.9239e-01,  5.8290e-01,  2.2096e-02, -6.7535e-01,\n",
              "        2.3478e-01, -6.2145e-01,  9.3806e-03, -1.4963e-01,  1.9908e-01,\n",
              "       -2.3215e-01, -4.5859e-01,  1.2054e-01, -5.1395e-01,  3.1708e-01,\n",
              "       -4.1910e-01,  5.1405e-02, -8.5546e-01,  2.6761e-01,  9.2187e-01,\n",
              "       -1.3435e-02, -3.7181e-02,  9.1578e-01,  2.5520e-01,  7.8937e-02,\n",
              "       -3.6655e-01, -7.6595e-01, -2.3991e-01, -4.7802e-01,  3.3219e-01,\n",
              "        4.6679e-01,  1.5636e-01,  1.6042e-01,  8.7424e-02, -3.5321e-01,\n",
              "        4.7255e-01,  1.2056e-01,  8.3116e-01, -6.0611e-02,  5.3739e-01,\n",
              "       -6.1494e-01, -2.1570e-01, -1.8524e-01, -2.0223e-01,  2.3018e-01,\n",
              "       -1.6400e-01,  2.3591e-01,  4.0722e-01, -2.7513e-02, -9.7465e-01,\n",
              "       -6.6564e-01, -9.2480e-04, -4.7052e-01,  9.4277e-01, -3.2955e-02,\n",
              "       -1.8189e+00,  4.1543e-01, -1.4880e-01,  1.7811e+00, -4.5183e-01,\n",
              "       -3.6581e-01, -4.7664e-01, -4.6612e-01, -3.4389e-01,  7.3382e-01,\n",
              "       -9.4791e-02,  3.0911e-01, -3.7634e-01,  9.0093e-01, -7.5135e-01,\n",
              "       -4.6000e-01,  4.3024e-01, -2.6514e-01,  1.2722e-01,  5.7196e-01,\n",
              "        3.3177e-01, -3.5258e-01,  7.2611e-01, -2.9039e-01,  7.8665e-02,\n",
              "        7.8733e-01,  9.0016e-01, -1.0184e+00, -1.7809e-01, -2.0708e+00,\n",
              "       -2.6151e-01, -8.3658e-01, -1.2481e-01, -9.6151e-01, -7.8977e-02,\n",
              "        6.6667e-02, -5.5874e-01,  2.8268e-01,  1.9485e-01, -8.2937e-01,\n",
              "        2.3885e-01, -9.4823e-02, -1.2901e-02, -3.4419e-01, -5.6187e-02],\n",
              "      dtype=float32)"
            ]
          },
          "metadata": {},
          "execution_count": 36
        }
      ]
    },
    {
      "cell_type": "code",
      "source": [
        "# Creating an embedding matrix\n",
        "word_index = tokenizer.word_index\n",
        "num_words = min(vocab_size, len(word_index) + 1)\n",
        "embedding_matrix = np.zeros((num_words, embedding_dim))\n",
        "for word, i in word_index.items():\n",
        "    if i < vocab_size:\n",
        "        embedding_vector = embedding_index.get(word)\n",
        "        if embedding_vector is not None:\n",
        "            embedding_matrix[i] = embedding_vector"
      ],
      "metadata": {
        "id": "1nNR-qt5q2TN"
      },
      "execution_count": null,
      "outputs": []
    },
    {
      "cell_type": "code",
      "source": [
        "embedding_matrix[1]"
      ],
      "metadata": {
        "colab": {
          "base_uri": "https://localhost:8080/"
        },
        "id": "Dl-U_cHnq4hZ",
        "outputId": "173bc72a-5ba2-46db-cfcc-ae9ff3254ec6"
      },
      "execution_count": null,
      "outputs": [
        {
          "output_type": "execute_result",
          "data": {
            "text/plain": [
              "array([ 0.19788   ,  0.25264999, -0.28308001, -0.11095   , -0.73352998,\n",
              "       -0.4752    ,  0.13349999, -0.14369   , -0.48716   ,  0.051429  ,\n",
              "        0.60088998,  0.48181999,  0.12914   ,  0.69537002,  0.38631999,\n",
              "       -0.33127999, -0.14934   , -0.71853   ,  0.75676   ,  0.18268   ,\n",
              "       -0.14747   ,  0.33359   , -0.11076   ,  0.20818   ,  0.061527  ,\n",
              "       -0.02967   ,  0.48225999, -0.065332  , -0.56993997, -0.093896  ,\n",
              "        0.71170998,  0.48354   , -0.29899001,  0.39467001, -0.49208999,\n",
              "        1.08340001,  0.10595   , -0.1287    ,  0.42798001,  0.69216001,\n",
              "        0.60070997, -0.60420001, -0.72736001,  0.41709   ,  0.41475999,\n",
              "        0.12808999,  0.20798001, -0.015487  ,  0.32878   ,  0.41328001,\n",
              "       -0.73539001,  0.6674    , -0.28018001,  0.1635    , -0.81071001,\n",
              "        0.29052001, -0.21743999,  0.81527001, -0.067178  , -0.38745001,\n",
              "       -0.032753  , -0.2202    , -0.49691999,  0.58273   ,  1.18649995,\n",
              "       -0.252     , -0.63714999,  0.45583001,  0.037555  ,  0.93813002,\n",
              "       -0.45263001, -0.31663001, -0.52995998, -0.45433   ,  0.081431  ,\n",
              "       -0.41058999,  0.087769  , -0.036122  , -0.0095746 , -1.17540002,\n",
              "       -0.39342999, -1.07770002,  0.22400001,  0.45059001, -0.36804   ,\n",
              "        0.875     , -0.62772   , -0.95850003, -0.31242999,  1.24820006,\n",
              "        0.011367  , -0.15143   , -0.161     ,  0.036857  , -0.022843  ,\n",
              "       -0.58186001,  0.049536  , -0.44062999, -0.74264997, -0.3215    ])"
            ]
          },
          "metadata": {},
          "execution_count": 38
        }
      ]
    },
    {
      "cell_type": "code",
      "source": [
        "#Standar LSTM\n",
        "from tensorflow.keras.models import Sequential\n",
        "model = Sequential()\n",
        "model.add(Embedding(num_words, embedding_dim, weights=[embedding_matrix], input_length=max_length, trainable=False))\n",
        "model.add(LSTM(128))\n",
        "model.add(Dense(1, activation='sigmoid'))"
      ],
      "metadata": {
        "id": "1YNopIyaEogs"
      },
      "execution_count": null,
      "outputs": []
    },
    {
      "cell_type": "code",
      "source": [
        "model.compile(loss='binary_crossentropy', optimizer='adam', metrics=['accuracy'])"
      ],
      "metadata": {
        "id": "-LBO-jcHDhHo"
      },
      "execution_count": null,
      "outputs": []
    },
    {
      "cell_type": "code",
      "source": [
        "# Train the model\n",
        "model.fit(train_data, y_train, batch_size=64, epochs=10, validation_data=(val_data, y_val))"
      ],
      "metadata": {
        "colab": {
          "base_uri": "https://localhost:8080/"
        },
        "id": "zfw1cvDvDn1U",
        "outputId": "14538f30-8c94-4cae-e014-7c416b362a7f"
      },
      "execution_count": null,
      "outputs": [
        {
          "output_type": "stream",
          "name": "stdout",
          "text": [
            "Epoch 1/10\n",
            "626/626 [==============================] - 133s 209ms/step - loss: 0.4502 - accuracy: 0.7864 - val_loss: 0.3792 - val_accuracy: 0.8342\n",
            "Epoch 2/10\n",
            "626/626 [==============================] - 130s 207ms/step - loss: 0.3598 - accuracy: 0.8408 - val_loss: 0.3355 - val_accuracy: 0.8529\n",
            "Epoch 3/10\n",
            "626/626 [==============================] - 127s 203ms/step - loss: 0.3258 - accuracy: 0.8585 - val_loss: 0.3349 - val_accuracy: 0.8593\n",
            "Epoch 4/10\n",
            "626/626 [==============================] - 133s 212ms/step - loss: 0.3007 - accuracy: 0.8731 - val_loss: 0.3106 - val_accuracy: 0.8691\n",
            "Epoch 5/10\n",
            "626/626 [==============================] - 131s 210ms/step - loss: 0.2746 - accuracy: 0.8845 - val_loss: 0.3178 - val_accuracy: 0.8697\n",
            "Epoch 6/10\n",
            "626/626 [==============================] - 128s 204ms/step - loss: 0.2508 - accuracy: 0.8952 - val_loss: 0.3135 - val_accuracy: 0.8769\n",
            "Epoch 7/10\n",
            "626/626 [==============================] - 130s 207ms/step - loss: 0.2251 - accuracy: 0.9080 - val_loss: 0.3185 - val_accuracy: 0.8619\n",
            "Epoch 8/10\n",
            "626/626 [==============================] - 131s 209ms/step - loss: 0.1952 - accuracy: 0.9230 - val_loss: 0.3191 - val_accuracy: 0.8737\n",
            "Epoch 9/10\n",
            "626/626 [==============================] - 139s 222ms/step - loss: 0.1655 - accuracy: 0.9355 - val_loss: 0.3424 - val_accuracy: 0.8731\n",
            "Epoch 10/10\n",
            "626/626 [==============================] - 130s 208ms/step - loss: 0.1337 - accuracy: 0.9492 - val_loss: 0.3562 - val_accuracy: 0.8695\n"
          ]
        },
        {
          "output_type": "execute_result",
          "data": {
            "text/plain": [
              "<keras.callbacks.History at 0x7f1b00a86b30>"
            ]
          },
          "metadata": {},
          "execution_count": 18
        }
      ]
    },
    {
      "cell_type": "code",
      "source": [
        "# Evaluating the model\n",
        "y_pred = model.predict(test_data)\n",
        "y_pred_binary = np.round(y_pred).flatten()"
      ],
      "metadata": {
        "colab": {
          "base_uri": "https://localhost:8080/"
        },
        "id": "2nf-cDkdYHwo",
        "outputId": "252560dd-4871-4337-ddb7-f7abd7b55408"
      },
      "execution_count": null,
      "outputs": [
        {
          "output_type": "stream",
          "name": "stdout",
          "text": [
            "157/157 [==============================] - 8s 46ms/step\n"
          ]
        }
      ]
    },
    {
      "cell_type": "code",
      "source": [
        "accuracy = accuracy_score(y_test, y_pred_binary)\n",
        "precision = precision_score(y_test, y_pred_binary)\n",
        "recall = recall_score(y_test, y_pred_binary)\n",
        "f1 = f1_score(y_test, y_pred_binary)\n",
        "\n",
        "print(\"Accuracy:\", accuracy)\n",
        "print(\"Precision:\", precision)\n",
        "print(\"Recall:\", recall)\n",
        "print(\"F1-score:\", f1)"
      ],
      "metadata": {
        "colab": {
          "base_uri": "https://localhost:8080/"
        },
        "id": "WZL7X1LFYPq3",
        "outputId": "1a495406-145c-4864-b34f-4efc4e72ccda"
      },
      "execution_count": null,
      "outputs": [
        {
          "output_type": "stream",
          "name": "stdout",
          "text": [
            "Accuracy: 0.8718\n",
            "Precision: 0.866796875\n",
            "Recall: 0.8809051210797936\n",
            "F1-score: 0.8737940539476275\n"
          ]
        }
      ]
    }
  ]
}